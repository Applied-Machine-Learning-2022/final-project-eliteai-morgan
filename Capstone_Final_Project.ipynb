{
  "nbformat": 4,
  "nbformat_minor": 0,
  "metadata": {
    "colab": {
      "name": "Capstone_Final_Project.ipynb",
      "provenance": [],
      "collapsed_sections": []
    },
    "kernelspec": {
      "name": "python3",
      "display_name": "Python 3"
    },
    "language_info": {
      "name": "python"
    }
  },
  "cells": [
    {
      "cell_type": "markdown",
      "source": [
        "# ***Using Machine Learning to Predict Fibonacci's Sequence***"
      ],
      "metadata": {
        "id": "no2WVECo5Jv-"
      }
    },
    {
      "cell_type": "markdown",
      "source": [
        "Devoloped by Morgan State University Team 1:\n",
        "\n",
        "- Takiya Eastmond: Junior Electrical and Computer Engineering\n",
        "- Deandre Charity: Junior Computer Science\n",
        "- Donald Davis: Junior Computer Science\n",
        "- Xavier Johnson: Sophmore Civil Engineering"
      ],
      "metadata": {
        "id": "Qr5FWJQ75UH4"
      }
    },
    {
      "cell_type": "markdown",
      "source": [
        "# Description"
      ],
      "metadata": {
        "id": "v2JL4QXU5zUu"
      }
    },
    {
      "cell_type": "markdown",
      "source": [
        "##Project Goal"
      ],
      "metadata": {
        "id": "m2UoSCJA8JkG"
      }
    },
    {
      "cell_type": "markdown",
      "source": [
        "The project goal is to use Fibonacci’s sequence in a recurrent neural network to find the approximation of the following numbers in the sequence. We are using the Fibonacci sequence in a recurrent neural network to find the most accurate representation of the data. The sequence is used as a mathematical metaphor to see the bias and fairness that is used in today’s times as well as how it impacts people’s lives. The tools that we use to accomplish this task is the golden rule which is a quadratic formula that we implanted to teach the network a pattern. In which it accomplishes a divider for fairness. We are also using linear regression as a tool that will give us an exact representation of where the data needs to be so we know where our recurrent neural network needs to be."
      ],
      "metadata": {
        "id": "oovuZWUm52CN"
      }
    },
    {
      "cell_type": "markdown",
      "source": [
        "# Libraries"
      ],
      "metadata": {
        "id": "-Rs_33mZixzw"
      }
    },
    {
      "cell_type": "markdown",
      "source": [
        "Here is a list of the necessary libraries for this project."
      ],
      "metadata": {
        "id": "cWi_fF_7B8MP"
      }
    },
    {
      "cell_type": "code",
      "execution_count": 1,
      "metadata": {
        "id": "cpAKTM58LlPC"
      },
      "outputs": [],
      "source": [
        "from keras.models import Sequential, load_model\n",
        "from keras.layers import LSTM, Dense, Dropout, Masking, Embedding, SimpleRNN\n",
        "from keras.callbacks import EarlyStopping\n",
        "import numpy as np\n",
        "import matplotlib.pyplot as plt\n",
        "from matplotlib import pyplot\n",
        "from sklearn.metrics import mean_squared_error\n",
        "from sklearn import tree"
      ]
    },
    {
      "cell_type": "markdown",
      "source": [
        "# Data Preparation\n"
      ],
      "metadata": {
        "id": "gJgwPjnZ-qt2"
      }
    },
    {
      "cell_type": "markdown",
      "source": [
        "## Create Fibonnacci sequence\n"
      ],
      "metadata": {
        "id": "JqwUmrtf-y1o"
      }
    },
    {
      "cell_type": "markdown",
      "source": [
        "We take in the first 10 fibbnacci Numbers by use of reccursion; the function calls itself."
      ],
      "metadata": {
        "id": "HmD8eAeu49JG"
      }
    },
    {
      "cell_type": "code",
      "source": [
        "fb_n = 10\n",
        "n =10\n",
        "fb = [0,1]\n",
        "for i in range(fb_n):\n",
        "  fb.append(fb[-1] + fb[-2])\n",
        "print('Fibonnaci Seq:'+str(fb))"
      ],
      "metadata": {
        "colab": {
          "base_uri": "https://localhost:8080/"
        },
        "id": "WLwbb3BlLzW4",
        "outputId": "52c78c23-e2b1-456d-fc59-effc8cc0e615"
      },
      "execution_count": 2,
      "outputs": [
        {
          "output_type": "stream",
          "name": "stdout",
          "text": [
            "Fibonnaci Seq:[0, 1, 1, 2, 3, 5, 8, 13, 21, 34, 55, 89]\n"
          ]
        }
      ]
    },
    {
      "cell_type": "markdown",
      "source": [
        "This produces the first 10 numbers of the fibonnaci sequence. We can now move on to the next step of our code."
      ],
      "metadata": {
        "id": "OdrkZYsQ8bqf"
      }
    },
    {
      "cell_type": "markdown",
      "source": [
        "## Setting Up Feature and Target Arrays\n"
      ],
      "metadata": {
        "id": "eVjwFEo5_GWh"
      }
    },
    {
      "cell_type": "markdown",
      "source": [
        "We use two arrays to set up our matrics. Our X array is used to set up our input data. Our Y array is used to output our data. "
      ],
      "metadata": {
        "id": "3gx5bNoN491U"
      }
    },
    {
      "cell_type": "code",
      "source": [
        "X=[]\n",
        "Y=[]\n",
        "\n",
        "for i in range(0,n-1):\n",
        "  X.append([fb[i], fb[i+1]])\n",
        "  Y.append(sum(X[-1]))\n",
        "\n",
        "X = np.array(np.reshape(X,(len(X),2,1)))\n",
        "Y = np.array(Y)"
      ],
      "metadata": {
        "id": "GvN_2PIPMVao"
      },
      "execution_count": 3,
      "outputs": []
    },
    {
      "cell_type": "markdown",
      "source": [
        "## View the New Appended Data\n"
      ],
      "metadata": {
        "id": "_tta1K9C_T8O"
      }
    },
    {
      "cell_type": "markdown",
      "source": [
        "We print our 'X' and 'Y' to view the outputs."
      ],
      "metadata": {
        "id": "3TqgnYff4-dQ"
      }
    },
    {
      "cell_type": "code",
      "source": [
        "print(\"X:\")\n",
        "print(X)\n",
        "print(\"Y:\")\n",
        "print(Y)"
      ],
      "metadata": {
        "colab": {
          "base_uri": "https://localhost:8080/"
        },
        "id": "X9KFkqdDNp3f",
        "outputId": "b9ba97e5-a1e0-4755-df36-c35a0ac74df9"
      },
      "execution_count": 4,
      "outputs": [
        {
          "output_type": "stream",
          "name": "stdout",
          "text": [
            "X:\n",
            "[[[ 0]\n",
            "  [ 1]]\n",
            "\n",
            " [[ 1]\n",
            "  [ 1]]\n",
            "\n",
            " [[ 1]\n",
            "  [ 2]]\n",
            "\n",
            " [[ 2]\n",
            "  [ 3]]\n",
            "\n",
            " [[ 3]\n",
            "  [ 5]]\n",
            "\n",
            " [[ 5]\n",
            "  [ 8]]\n",
            "\n",
            " [[ 8]\n",
            "  [13]]\n",
            "\n",
            " [[13]\n",
            "  [21]]\n",
            "\n",
            " [[21]\n",
            "  [34]]]\n",
            "Y:\n",
            "[ 1  2  3  5  8 13 21 34 55]\n"
          ]
        }
      ]
    },
    {
      "cell_type": "markdown",
      "source": [
        "# Build the Model"
      ],
      "metadata": {
        "id": "8tpkUflwNy4-"
      }
    },
    {
      "cell_type": "markdown",
      "source": [
        "## Long Short Term Memory (LSTM) Model\n"
      ],
      "metadata": {
        "id": "XINLwSLs_jR0"
      }
    },
    {
      "cell_type": "markdown",
      "source": [
        "We used a long short term memory (lstm) model with one hidden layer. We use our mean square error to measure our loss. "
      ],
      "metadata": {
        "id": "WwCpw_Kx4_a8"
      }
    },
    {
      "cell_type": "code",
      "source": [
        "model = Sequential()"
      ],
      "metadata": {
        "id": "md3kJpwVNtGw"
      },
      "execution_count": 5,
      "outputs": []
    },
    {
      "cell_type": "code",
      "source": [
        "model.add(LSTM(20, activation='relu', input_shape=(2, 1)))\n",
        "model.add(Dense(1))\n",
        "model.compile(optimizer='adam', loss='mse')"
      ],
      "metadata": {
        "id": "fByFsrIjN2E-"
      },
      "execution_count": 6,
      "outputs": []
    },
    {
      "cell_type": "markdown",
      "source": [
        "We have succeffully built a model with one layer. Time for the next step."
      ],
      "metadata": {
        "id": "d5Gbe0Za8qVg"
      }
    },
    {
      "cell_type": "markdown",
      "source": [
        "## Setting Up Stopping Conditions\n"
      ],
      "metadata": {
        "id": "zJRjH3dc_rAV"
      }
    },
    {
      "cell_type": "markdown",
      "source": [
        "Here we are preventing overfitting with early stopping."
      ],
      "metadata": {
        "id": "aunxK2Rk5AOK"
      }
    },
    {
      "cell_type": "code",
      "source": [
        "#Setting up early stopping conditions\n",
        "es = EarlyStopping(monitor='val_loss', mode='min', verbose=1)"
      ],
      "metadata": {
        "id": "xvpfw-4PN853"
      },
      "execution_count": 7,
      "outputs": []
    },
    {
      "cell_type": "markdown",
      "source": [
        "## Fitting the Model\n"
      ],
      "metadata": {
        "id": "zeGfIE0C_xb_"
      }
    },
    {
      "cell_type": "markdown",
      "source": [
        "Once an early stop is in place, we train the model."
      ],
      "metadata": {
        "id": "K-Xr-yGE5Axk"
      }
    },
    {
      "cell_type": "code",
      "source": [
        "\t# fitting the model\n",
        "history = model.fit(X, Y, validation_data=(X, Y), epochs=300, verbose=0)"
      ],
      "metadata": {
        "id": "UgDvoy4TOEPH"
      },
      "execution_count": 8,
      "outputs": []
    },
    {
      "cell_type": "markdown",
      "source": [
        "We have successfully fitted the data to the model. It is now time to reshape the matrix."
      ],
      "metadata": {
        "id": "N3TqfFlf8132"
      }
    },
    {
      "cell_type": "markdown",
      "source": [
        "## Reshaping the Matrix\n"
      ],
      "metadata": {
        "id": "7eEHqSTw_2WJ"
      }
    },
    {
      "cell_type": "markdown",
      "source": [
        "Once we have succefully created a matrix, we need to reshape it to house our final sequence for testing to see what the model will predict."
      ],
      "metadata": {
        "id": "D8Z8s05Q5Bak"
      }
    },
    {
      "cell_type": "code",
      "source": [
        "# reshaping\n",
        "pY = []\n",
        "pY.append(round(model.predict(np.reshape(np.array([55, 89]),(1, 2, 1)))[0][0]))\n",
        "pY.append(round(model.predict(np.reshape(np.array([89, 144]),(1, 2, 1)))[0][0]))\n",
        "pY.append(round(model.predict(np.reshape(np.array([144, 233]),(1, 2, 1)))[0][0]))\n",
        "pY.append(round(model.predict(np.reshape(np.array([233,377]),(1, 2, 1)))[0][0]))\n",
        "pY.append(round(model.predict(np.reshape(np.array([377, 610]),(1, 2, 1)))[0][0]))"
      ],
      "metadata": {
        "id": "FLsjYYprOKW3"
      },
      "execution_count": 9,
      "outputs": []
    },
    {
      "cell_type": "markdown",
      "source": [
        "## Brief View of Our Predicted"
      ],
      "metadata": {
        "id": "vJ3oGODG_7jK"
      }
    },
    {
      "cell_type": "markdown",
      "source": [
        "We now call the print function on our matrix to view the predicted sequence."
      ],
      "metadata": {
        "id": "Jdzv3ci35B_m"
      }
    },
    {
      "cell_type": "code",
      "source": [
        "# predicted\n",
        "print(pY)"
      ],
      "metadata": {
        "colab": {
          "base_uri": "https://localhost:8080/"
        },
        "id": "8UMesVxZOTSe",
        "outputId": "2185c646-94e8-4d99-e146-7ce67c34bc84"
      },
      "execution_count": 10,
      "outputs": [
        {
          "output_type": "stream",
          "name": "stdout",
          "text": [
            "[142, 231, 375, 612, 997]\n"
          ]
        }
      ]
    },
    {
      "cell_type": "markdown",
      "source": [
        "We now have our predicted Fibonacci sequence. Next, the data is compiled."
      ],
      "metadata": {
        "id": "pIPwCwj39UeG"
      }
    },
    {
      "cell_type": "markdown",
      "source": [
        "## Compiling the Data\n"
      ],
      "metadata": {
        "id": "ST1PcJ3GAC9N"
      }
    },
    {
      "cell_type": "markdown",
      "source": [
        "It is time to test the model. Using .compile will help us achieve this."
      ],
      "metadata": {
        "id": "uHFegPKg5Cgg"
      }
    },
    {
      "cell_type": "code",
      "source": [
        "model.compile(loss='binary_crossentropy', optimizer='adam', metrics=['accuracy'])"
      ],
      "metadata": {
        "id": "mXRXbnpbNqz0"
      },
      "execution_count": 11,
      "outputs": []
    },
    {
      "cell_type": "markdown",
      "source": [
        "# Model 1"
      ],
      "metadata": {
        "id": "gNsmAnlijxhX"
      }
    },
    {
      "cell_type": "markdown",
      "source": [
        "Our first model utilizes normal regression that results in low accuracy of a linear model."
      ],
      "metadata": {
        "id": "YzdMGpCS5DF9"
      }
    },
    {
      "cell_type": "code",
      "source": [
        "# fit model\n",
        "history = model.fit(X,Y, validation_data=(X, Y), epochs=300, verbose=0)\n",
        "# evaluate the model\n",
        "_, train_acc = model.evaluate(X, Y, verbose=0)\n",
        "_, test_acc = model.evaluate(X, Y, verbose=0)\n",
        "print('Train: %.3f, Test: %.3f' % (train_acc, test_acc))\n",
        "pyplot.subplot(211)\n",
        "pyplot.title('Loss')\n",
        "pyplot.plot(history.history['loss'], label='train')\n",
        "pyplot.plot(history.history['val_loss'], label='test')\n",
        "pyplot.legend()\n",
        "# plot accuracy during training\n",
        "pyplot.subplot(212)\n",
        "pyplot.title('Accuracy')\n",
        "pyplot.subplot(212)\n",
        "pyplot.title('Accuracy')\n",
        "pyplot.plot(history.history['accuracy'], label='train')\n",
        "pyplot.plot(history.history['val_accuracy'], label='test')\n",
        "pyplot.legend()\n",
        "pyplot.show()"
      ],
      "metadata": {
        "colab": {
          "base_uri": "https://localhost:8080/",
          "height": 353
        },
        "id": "x3mNaAEtvkTu",
        "outputId": "340e1cfe-bbc5-4586-9dfc-4dae74bd923d"
      },
      "execution_count": 12,
      "outputs": [
        {
          "output_type": "stream",
          "name": "stdout",
          "text": [
            "Train: 0.111, Test: 0.111\n"
          ]
        },
        {
          "output_type": "stream",
          "name": "stderr",
          "text": [
            "/usr/local/lib/python3.7/dist-packages/ipykernel_launcher.py:15: MatplotlibDeprecationWarning: Adding an axes using the same arguments as a previous axes currently reuses the earlier instance.  In a future version, a new instance will always be created and returned.  Meanwhile, this warning can be suppressed, and the future behavior ensured, by passing a unique label to each axes instance.\n",
            "  from ipykernel import kernelapp as app\n"
          ]
        },
        {
          "output_type": "display_data",
          "data": {
            "text/plain": [
              "<Figure size 432x288 with 2 Axes>"
            ],
            "image/png": "[encoded data removed]"
          },
          "metadata": {
            "needs_background": "light"
          }
        }
      ]
    },
    {
      "cell_type": "markdown",
      "source": [
        "# Model 2"
      ],
      "metadata": {
        "id": "-DT8PRpRjy-o"
      }
    },
    {
      "cell_type": "markdown",
      "source": [
        "For the second model we decided to use Stochastic Gradient Descent as a fit for our regression model."
      ],
      "metadata": {
        "id": "FsGbl2L15D_j"
      }
    },
    {
      "cell_type": "code",
      "source": [
        "from sklearn.datasets import make_circles\n",
        "from keras.models import Sequential\n",
        "from keras.layers import Dense\n",
        "from matplotlib import pyplot\n",
        "# generate dataset\n",
        "X, y = make_circles(n_samples=1000, noise=0.1, random_state=1)\n",
        "# split into train and test\n",
        "n_test = 500\n",
        "trainX, testX = X[:n_test, :], X[n_test:, :]\n",
        "trainy, testy = y[:n_test], y[n_test:]\n",
        "# define model\n",
        "model = Sequential()\n",
        "model.add(Dense(100, input_dim=2, activation='relu'))\n",
        "model.add(Dense(1, activation='sigmoid'))\n",
        "# compile model\n",
        "model.compile(loss='binary_crossentropy', optimizer='SGD', metrics=['accuracy'])\n",
        "# fit model\n",
        "history = model.fit(trainX, trainy, validation_data=(testX, testy), epochs=300, verbose=0)\n",
        "# evaluate the model\n",
        "_, train_acc = model.evaluate(trainX, trainy, verbose=0)\n",
        "_, test_acc = model.evaluate(testX, testy, verbose=0)\n",
        "print('Train: %.3f, Test: %.3f' % (train_acc, test_acc))\n",
        "# plot loss during training\n",
        "pyplot.subplot(211)\n",
        "pyplot.title('Loss')\n",
        "pyplot.plot(history.history['loss'], label='train')\n",
        "pyplot.plot(history.history['val_loss'], label='test')\n",
        "pyplot.legend()\n",
        "# plot accuracy during training\n",
        "pyplot.subplot(212)\n",
        "pyplot.title('Accuracy')\n",
        "pyplot.plot(history.history['accuracy'], label='train')\n",
        "pyplot.plot(history.history['val_accuracy'], label='test')\n",
        "pyplot.legend()\n",
        "pyplot.show()\n"
      ],
      "metadata": {
        "id": "dha7umWA4QhI",
        "colab": {
          "base_uri": "https://localhost:8080/",
          "height": 298
        },
        "outputId": "26cc44e0-98d2-462d-bf52-27d04c378082"
      },
      "execution_count": 13,
      "outputs": [
        {
          "output_type": "stream",
          "name": "stdout",
          "text": [
            "Train: 0.720, Test: 0.710\n"
          ]
        },
        {
          "output_type": "display_data",
          "data": {
            "text/plain": [
              "<Figure size 432x288 with 2 Axes>"
            ],
            "image/png": "[encoded data removed]"
          },
          "metadata": {
            "needs_background": "light"
          }
        }
      ]
    },
    {
      "cell_type": "markdown",
      "source": [
        "# Model 3"
      ],
      "metadata": {
        "id": "xRZMj3Itj0bN"
      }
    },
    {
      "cell_type": "markdown",
      "source": [
        "For our final model, an Adam Optimzer is implemented to be used as a way to cut down on our loss."
      ],
      "metadata": {
        "id": "4Xc4J8pH5ExH"
      }
    },
    {
      "cell_type": "code",
      "source": [
        "# generate dataset\n",
        "X, y = make_circles(n_samples=1000, noise=0.1, random_state=1)\n",
        "# split into train and test\n",
        "n_test = 500\n",
        "trainX, testX = X[:n_test, :], X[n_test:, :]\n",
        "trainy, testy = y[:n_test], y[n_test:]\n",
        "# define model\n",
        "model = Sequential()\n",
        "model.add(Dense(100, input_dim=2, activation='relu'))\n",
        "model.add(Dense(1, activation='sigmoid'))\n",
        "# compile model\n",
        "model.compile(loss='binary_crossentropy', optimizer='adam', metrics=['accuracy'])\n",
        "# fit model\n",
        "history = model.fit(trainX, trainy, validation_data=(testX, testy), epochs=300, verbose=0)\n",
        "# evaluate the model\n",
        "_, train_acc = model.evaluate(trainX, trainy, verbose=0)\n",
        "_, test_acc = model.evaluate(testX, testy, verbose=0)\n",
        "print('Train: %.3f, Test: %.3f' % (train_acc, test_acc))\n",
        "# plot loss during training\n",
        "pyplot.subplot(211)\n",
        "pyplot.title('Loss')\n",
        "pyplot.plot(history.history['loss'], label='train')\n",
        "pyplot.plot(history.history['val_loss'], label='test')\n",
        "pyplot.legend()\n",
        "# plot accuracy during training\n",
        "pyplot.subplot(212)\n",
        "pyplot.title('Accuracy')\n",
        "pyplot.plot(history.history['accuracy'], label='train')\n",
        "pyplot.plot(history.history['val_accuracy'], label='test')\n",
        "pyplot.legend()\n",
        "pyplot.show()"
      ],
      "metadata": {
        "id": "qlM_pJBl43nx",
        "colab": {
          "base_uri": "https://localhost:8080/",
          "height": 298
        },
        "outputId": "0f904272-a275-492e-d1a7-248aa61e4181"
      },
      "execution_count": 14,
      "outputs": [
        {
          "output_type": "stream",
          "name": "stdout",
          "text": [
            "Train: 0.834, Test: 0.848\n"
          ]
        },
        {
          "output_type": "display_data",
          "data": {
            "text/plain": [
              "<Figure size 432x288 with 2 Axes>"
            ],
            "image/png": "[encoded data removed]"
          },
          "metadata": {
            "needs_background": "light"
          }
        }
      ]
    }
  ]
}