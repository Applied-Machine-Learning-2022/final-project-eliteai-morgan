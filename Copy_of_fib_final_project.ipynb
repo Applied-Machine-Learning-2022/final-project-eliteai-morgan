{
  "nbformat": 4,
  "nbformat_minor": 0,
  "metadata": {
    "colab": {
      "name": "Copy of fib final project",
      "provenance": [],
      "collapsed_sections": []
    },
    "kernelspec": {
      "name": "python3",
      "display_name": "Python 3"
    },
    "language_info": {
      "name": "python"
    }
  },
  "cells": [
    {
      "cell_type": "code",
      "execution_count": null,
      "metadata": {
        "id": "javhjz3W9ypP",
        "colab": {
          "base_uri": "https://localhost:8080/"
        },
        "outputId": "85790c48-646d-447b-cd43-db8532487083"
      },
      "outputs": [
        {
          "output_type": "stream",
          "name": "stdout",
          "text": [
            "enter a number9\n",
            "the factorial of 9 is 362880\n"
          ]
        }
      ],
      "source": [
        "def main():\n",
        "    number = int(input(\"enter a number\"))\n",
        "    f = factorial(number)\n",
        "    print(\"the factorial of\",number,\"is\",f)\n",
        "def factorial (num):\n",
        "    if num == 0:\n",
        "        num =1\n",
        "    else:\n",
        "        num = num * factorial(num-1)\n",
        "        # example of recurssion\n",
        "    return num\n",
        "main()    "
      ]
    },
    {
      "cell_type": "code",
      "source": [
        "nterms = int(input(\"How many terms? \"))\n",
        "\n",
        "# start of fib\n",
        "n1, n2 = 0, 1\n",
        "count = 0\n",
        "\n",
        "# conditional edge case \n",
        "if nterms <= 0:\n",
        "   print(\"Please enter a positive integer\")\n",
        "# conditional edge case\n",
        "elif nterms == 1:\n",
        "   print(\"Fibonacci sequence upto\",nterms,\":\")\n",
        "   print(n1)\n",
        "# generate fibonacci sequence\n",
        "else:\n",
        "   print(\"Fibonacci sequence:\")\n",
        "   while count < nterms:\n",
        "       print(n1)\n",
        "       nth = n1 + n2\n",
        "       n1 = n2\n",
        "       n2 = nth\n",
        "       count += 1"
      ],
      "metadata": {
        "id": "9AsV6kQg_rgV",
        "colab": {
          "base_uri": "https://localhost:8080/"
        },
        "outputId": "a3b1127a-1ed7-40a2-bc7b-7f4b809ebe86"
      },
      "execution_count": null,
      "outputs": [
        {
          "output_type": "stream",
          "name": "stdout",
          "text": [
            "How many terms? 9\n",
            "Fibonacci sequence:\n",
            "0\n",
            "1\n",
            "1\n",
            "2\n",
            "3\n",
            "5\n",
            "8\n",
            "13\n",
            "21\n"
          ]
        }
      ]
    },
    {
      "cell_type": "code",
      "source": [
        "\n",
        "def TowerOfHanoi(n , source, destination, auxiliary): \n",
        "    if n==1: \n",
        "        print (\"Move disk 1 from source\",source,\"to destination\",destination) \n",
        "        return\n",
        "    TowerOfHanoi(n-1, source, auxiliary, destination) \n",
        "    print (\"Move disk\",n,\"from source\",source,\"to destination\",destination )\n",
        "    TowerOfHanoi(n-1, auxiliary, destination, source) \n",
        "          \n",
        "# Driver code \n",
        "n = 3\n",
        "TowerOfHanoi(n,'A','B','C')  \n",
        "# A, C, B are the name of rods \n",
        "  \n",
        "\n"
      ],
      "metadata": {
        "colab": {
          "base_uri": "https://localhost:8080/"
        },
        "id": "1eIKNsPK-UgN",
        "outputId": "bd174ecc-9ff9-4f24-862c-f9d991a8cc5a"
      },
      "execution_count": null,
      "outputs": [
        {
          "output_type": "stream",
          "name": "stdout",
          "text": [
            "Move disk 1 from source A to destination B\n",
            "Move disk 2 from source A to destination C\n",
            "Move disk 1 from source B to destination C\n",
            "Move disk 3 from source A to destination B\n",
            "Move disk 1 from source C to destination A\n",
            "Move disk 2 from source C to destination B\n",
            "Move disk 1 from source A to destination B\n"
          ]
        }
      ]
    },
    {
      "cell_type": "code",
      "source": [
        "\n",
        "def fibonacci(n, second_last, last):\n",
        "    if n-1 == 0:\n",
        "        return second_last\n",
        "    else:\n",
        "        new_last = second_last + last\n",
        "        second_last = last\n",
        "        return fibonacci(n-1, second_last, new_last)\n",
        " \n",
        " \n",
        "if __name__ == \"__main__\":\n",
        "    print(fibonacci(13, 0, 1))\n",
        "  "
      ],
      "metadata": {
        "id": "WW_-cORWXy7Q",
        "colab": {
          "base_uri": "https://localhost:8080/"
        },
        "outputId": "2f4aac08-8ba2-4556-c61b-b2e6f25685f7"
      },
      "execution_count": null,
      "outputs": [
        {
          "output_type": "stream",
          "name": "stdout",
          "text": [
            "144\n"
          ]
        }
      ]
    },
    {
      "cell_type": "markdown",
      "source": [
        ""
      ],
      "metadata": {
        "id": "s5oD6ha1YWMb"
      }
    },
    {
      "cell_type": "code",
      "source": [
        "#sample for trainining\n",
        "import pandas as pd\n",
        "fib = pd.DataFrame([[1, 1, 2], \n",
        "                          [2, 1, 3], \n",
        "                          [3, 2, 5],\n",
        "                          [5, 3, 8],\n",
        "                          [8, 5, 13]\n",
        "])"
      ],
      "metadata": {
        "id": "P3zIY1XmIEXt"
      },
      "execution_count": null,
      "outputs": []
    },
    {
      "cell_type": "code",
      "source": [
        "\n",
        "fib.columns = [0, 1, 2]\n",
        "fib.iloc[0]\n",
        "fib"
      ],
      "metadata": {
        "id": "qY69Wq6FRhat",
        "colab": {
          "base_uri": "https://localhost:8080/",
          "height": 206
        },
        "outputId": "7aa5ddf9-8f1f-431b-9aa8-360038c054a4"
      },
      "execution_count": null,
      "outputs": [
        {
          "output_type": "execute_result",
          "data": {
            "text/plain": [
              "   0  1   2\n",
              "0  1  1   2\n",
              "1  2  1   3\n",
              "2  3  2   5\n",
              "3  5  3   8\n",
              "4  8  5  13"
            ],
            "text/html": [
              "\n",
              "  <div id=\"df-95e25dcf-0302-4ad3-8a1e-48d60ae84586\">\n",
              "    <div class=\"colab-df-container\">\n",
              "      <div>\n",
              "<style scoped>\n",
              "    .dataframe tbody tr th:only-of-type {\n",
              "        vertical-align: middle;\n",
              "    }\n",
              "\n",
              "    .dataframe tbody tr th {\n",
              "        vertical-align: top;\n",
              "    }\n",
              "\n",
              "    .dataframe thead th {\n",
              "        text-align: right;\n",
              "    }\n",
              "</style>\n",
              "<table border=\"1\" class=\"dataframe\">\n",
              "  <thead>\n",
              "    <tr style=\"text-align: right;\">\n",
              "      <th></th>\n",
              "      <th>0</th>\n",
              "      <th>1</th>\n",
              "      <th>2</th>\n",
              "    </tr>\n",
              "  </thead>\n",
              "  <tbody>\n",
              "    <tr>\n",
              "      <th>0</th>\n",
              "      <td>1</td>\n",
              "      <td>1</td>\n",
              "      <td>2</td>\n",
              "    </tr>\n",
              "    <tr>\n",
              "      <th>1</th>\n",
              "      <td>2</td>\n",
              "      <td>1</td>\n",
              "      <td>3</td>\n",
              "    </tr>\n",
              "    <tr>\n",
              "      <th>2</th>\n",
              "      <td>3</td>\n",
              "      <td>2</td>\n",
              "      <td>5</td>\n",
              "    </tr>\n",
              "    <tr>\n",
              "      <th>3</th>\n",
              "      <td>5</td>\n",
              "      <td>3</td>\n",
              "      <td>8</td>\n",
              "    </tr>\n",
              "    <tr>\n",
              "      <th>4</th>\n",
              "      <td>8</td>\n",
              "      <td>5</td>\n",
              "      <td>13</td>\n",
              "    </tr>\n",
              "  </tbody>\n",
              "</table>\n",
              "</div>\n",
              "      <button class=\"colab-df-convert\" onclick=\"convertToInteractive('df-95e25dcf-0302-4ad3-8a1e-48d60ae84586')\"\n",
              "              title=\"Convert this dataframe to an interactive table.\"\n",
              "              style=\"display:none;\">\n",
              "        \n",
              "  <svg xmlns=\"http://www.w3.org/2000/svg\" height=\"24px\"viewBox=\"0 0 24 24\"\n",
              "       width=\"24px\">\n",
              "    <path d=\"M0 0h24v24H0V0z\" fill=\"none\"/>\n",
              "    <path d=\"M18.56 5.44l.94 2.06.94-2.06 2.06-.94-2.06-.94-.94-2.06-.94 2.06-2.06.94zm-11 1L8.5 8.5l.94-2.06 2.06-.94-2.06-.94L8.5 2.5l-.94 2.06-2.06.94zm10 10l.94 2.06.94-2.06 2.06-.94-2.06-.94-.94-2.06-.94 2.06-2.06.94z\"/><path d=\"M17.41 7.96l-1.37-1.37c-.4-.4-.92-.59-1.43-.59-.52 0-1.04.2-1.43.59L10.3 9.45l-7.72 7.72c-.78.78-.78 2.05 0 2.83L4 21.41c.39.39.9.59 1.41.59.51 0 1.02-.2 1.41-.59l7.78-7.78 2.81-2.81c.8-.78.8-2.07 0-2.86zM5.41 20L4 18.59l7.72-7.72 1.47 1.35L5.41 20z\"/>\n",
              "  </svg>\n",
              "      </button>\n",
              "      \n",
              "  <style>\n",
              "    .colab-df-container {\n",
              "      display:flex;\n",
              "      flex-wrap:wrap;\n",
              "      gap: 12px;\n",
              "    }\n",
              "\n",
              "    .colab-df-convert {\n",
              "      background-color: #E8F0FE;\n",
              "      border: none;\n",
              "      border-radius: 50%;\n",
              "      cursor: pointer;\n",
              "      display: none;\n",
              "      fill: #1967D2;\n",
              "      height: 32px;\n",
              "      padding: 0 0 0 0;\n",
              "      width: 32px;\n",
              "    }\n",
              "\n",
              "    .colab-df-convert:hover {\n",
              "      background-color: #E2EBFA;\n",
              "      box-shadow: 0px 1px 2px rgba(60, 64, 67, 0.3), 0px 1px 3px 1px rgba(60, 64, 67, 0.15);\n",
              "      fill: #174EA6;\n",
              "    }\n",
              "\n",
              "    [theme=dark] .colab-df-convert {\n",
              "      background-color: #3B4455;\n",
              "      fill: #D2E3FC;\n",
              "    }\n",
              "\n",
              "    [theme=dark] .colab-df-convert:hover {\n",
              "      background-color: #434B5C;\n",
              "      box-shadow: 0px 1px 3px 1px rgba(0, 0, 0, 0.15);\n",
              "      filter: drop-shadow(0px 1px 2px rgba(0, 0, 0, 0.3));\n",
              "      fill: #FFFFFF;\n",
              "    }\n",
              "  </style>\n",
              "\n",
              "      <script>\n",
              "        const buttonEl =\n",
              "          document.querySelector('#df-95e25dcf-0302-4ad3-8a1e-48d60ae84586 button.colab-df-convert');\n",
              "        buttonEl.style.display =\n",
              "          google.colab.kernel.accessAllowed ? 'block' : 'none';\n",
              "\n",
              "        async function convertToInteractive(key) {\n",
              "          const element = document.querySelector('#df-95e25dcf-0302-4ad3-8a1e-48d60ae84586');\n",
              "          const dataTable =\n",
              "            await google.colab.kernel.invokeFunction('convertToInteractive',\n",
              "                                                     [key], {});\n",
              "          if (!dataTable) return;\n",
              "\n",
              "          const docLinkHtml = 'Like what you see? Visit the ' +\n",
              "            '<a target=\"_blank\" href=https://colab.research.google.com/notebooks/data_table.ipynb>data table notebook</a>'\n",
              "            + ' to learn more about interactive tables.';\n",
              "          element.innerHTML = '';\n",
              "          dataTable['output_type'] = 'display_data';\n",
              "          await google.colab.output.renderOutput(dataTable, element);\n",
              "          const docLink = document.createElement('div');\n",
              "          docLink.innerHTML = docLinkHtml;\n",
              "          element.appendChild(docLink);\n",
              "        }\n",
              "      </script>\n",
              "    </div>\n",
              "  </div>\n",
              "  "
            ]
          },
          "metadata": {},
          "execution_count": 4
        }
      ]
    },
    {
      "cell_type": "code",
      "source": [
        "import numpy as np\n",
        "from sklearn.linear_model import LinearRegression\n",
        "reg = LinearRegression().fit(fib[[0, 1]], fib[2])\n",
        "reg.score(fib[[0, 1]], fib[2])"
      ],
      "metadata": {
        "colab": {
          "base_uri": "https://localhost:8080/"
        },
        "id": "r075SX4LTEpL",
        "outputId": "3a22b38f-e28b-4a52-f9f6-44bb5e2d8c84"
      },
      "execution_count": null,
      "outputs": [
        {
          "output_type": "execute_result",
          "data": {
            "text/plain": [
              "1.0"
            ]
          },
          "metadata": {},
          "execution_count": 5
        }
      ]
    },
    {
      "cell_type": "code",
      "source": [
        "def pred(x):\n",
        "  return reg.predict(np.array([x]))"
      ],
      "metadata": {
        "id": "3u1vmZl-TrvC"
      },
      "execution_count": null,
      "outputs": []
    },
    {
      "cell_type": "code",
      "source": [
        "list1 = [0, 1]"
      ],
      "metadata": {
        "id": "eGWpvlLKTxEl"
      },
      "execution_count": null,
      "outputs": []
    },
    {
      "cell_type": "code",
      "source": [
        "for k in range(13):\n",
        "  # \n",
        "  list1.append(int(np.rint(pred([list1[k], list1[k+1]]))))\n",
        "print(list1)"
      ],
      "metadata": {
        "id": "BKKsG-GpT42C",
        "colab": {
          "base_uri": "https://localhost:8080/"
        },
        "outputId": "49d340c5-0854-42cc-cbf1-6dc7d3394894"
      },
      "execution_count": null,
      "outputs": [
        {
          "output_type": "stream",
          "name": "stdout",
          "text": [
            "[0, 1, 1, 2, 3, 5, 8, 13, 21, 34, 55, 89, 144, 233, 377]\n"
          ]
        }
      ]
    },
    {
      "cell_type": "code",
      "source": [
        "import tensorflow as tf\n",
        "from tensorflow import keras\n",
        "from tensorflow.keras import layers\n",
        "tf.constant([1,2,3])\n"
      ],
      "metadata": {
        "colab": {
          "base_uri": "https://localhost:8080/"
        },
        "id": "veya5WW4UFGf",
        "outputId": "f4ed9fe2-8102-44e9-ee4a-5f0e72be4b44"
      },
      "execution_count": null,
      "outputs": [
        {
          "output_type": "execute_result",
          "data": {
            "text/plain": [
              "<tf.Tensor: shape=(3,), dtype=int32, numpy=array([1, 2, 3], dtype=int32)>"
            ]
          },
          "metadata": {},
          "execution_count": 13
        }
      ]
    },
    {
      "cell_type": "code",
      "source": [
        "\n",
        "import numpy as np\n",
        "import random\n",
        "from keras.models import Sequential\n",
        "from keras.layers import Dense\n",
        "from keras.layers import Dropout"
      ],
      "metadata": {
        "id": "bbGs4FUe4u-g"
      },
      "execution_count": null,
      "outputs": []
    },
    {
      "cell_type": "markdown",
      "source": [
        ""
      ],
      "metadata": {
        "id": "5mGXzLPAm_u1"
      }
    },
    {
      "cell_type": "code",
      "source": [
        "\n",
        "def fibbss(n):\n",
        "  formula=(1+np.sqrt(5))/2\n",
        "  return np.round(pow(formula,n)/np.sqrt(5))\n",
        "\n"
      ],
      "metadata": {
        "id": "ah6cEnYeOCDV"
      },
      "execution_count": null,
      "outputs": []
    },
    {
      "cell_type": "code",
      "source": [
        "\n",
        "tt=400\n",
        "dd=500\n",
        "d=np.zeros((tt,2))\n",
        "list_sample=random.sample(range(1,dd),tt)\n",
        "d[:,0]=list_sample\n",
        "d[:,1]=fibbss(d[:,0])\n",
        "\n",
        "\n"
      ],
      "metadata": {
        "id": "xsoyvyMr9psk"
      },
      "execution_count": null,
      "outputs": []
    },
    {
      "cell_type": "code",
      "source": [
        "x_t=d[:,0]\n",
        "x_t=np.reshape(x_t,(-1,1))\n",
        "y_t=d[:,1]\n",
        "y_t=np.reshape(y_t,(-1,1))\n",
        "y_t=np.log(y_t)\n",
        "from sklearn.model_selection import train_test_split\n",
        "x_train,x_test,y_train,y_test=train_test_split(x_t,y_t,test_size=0.2,random_state=42)\n"
      ],
      "metadata": {
        "id": "ZMusKiX0B2KX"
      },
      "execution_count": null,
      "outputs": []
    },
    {
      "cell_type": "code",
      "source": [
        "def create_model():\n",
        "  model=Sequential()\n",
        "  model.add(Dense(units=1024,input_dim=1,activation=\"relu\"))\n",
        "  model.add(Dense(units=1))\n",
        "  model.compile(optimizer=\"adam\",loss=\"mean_squared_error\", metrics=[\"mae\"])\n",
        "  return model\n",
        "\n",
        "\n",
        "\n",
        "\n",
        "\n"
      ],
      "metadata": {
        "id": "bmCWqVtPFDd-"
      },
      "execution_count": null,
      "outputs": []
    },
    {
      "cell_type": "code",
      "source": [
        "model=create_model()\n",
        "model.summary()\n"
      ],
      "metadata": {
        "colab": {
          "base_uri": "https://localhost:8080/"
        },
        "id": "P-itGjNuI9kt",
        "outputId": "568b6ed3-1f3f-4edd-d381-5e2ac60d27b0"
      },
      "execution_count": null,
      "outputs": [
        {
          "output_type": "stream",
          "name": "stdout",
          "text": [
            "Model: \"sequential\"\n",
            "_________________________________________________________________\n",
            " Layer (type)                Output Shape              Param #   \n",
            "=================================================================\n",
            " dense (Dense)               (None, 1024)              2048      \n",
            "                                                                 \n",
            " dense_1 (Dense)             (None, 1)                 1025      \n",
            "                                                                 \n",
            "=================================================================\n",
            "Total params: 3,073\n",
            "Trainable params: 3,073\n",
            "Non-trainable params: 0\n",
            "_________________________________________________________________\n"
          ]
        }
      ]
    },
    {
      "cell_type": "code",
      "source": [
        ""
      ],
      "metadata": {
        "id": "U7hTq1Ts_dd6"
      },
      "execution_count": null,
      "outputs": []
    },
    {
      "cell_type": "code",
      "source": [
        "model.fit(x_train,y_train,batch_size=32,epochs=400)\n",
        "\n",
        "\n"
      ],
      "metadata": {
        "colab": {
          "base_uri": "https://localhost:8080/"
        },
        "id": "wce5RWmyxNsh",
        "outputId": "ec10bf99-c6a4-4d36-eadd-82f220f0f457"
      },
      "execution_count": null,
      "outputs": [
        {
          "output_type": "stream",
          "name": "stdout",
          "text": [
            "Epoch 1/400\n",
            "10/10 [==============================] - 1s 2ms/step - loss: 10032.7129 - mae: 82.5776\n",
            "Epoch 2/400\n",
            "10/10 [==============================] - 0s 2ms/step - loss: 378.9162 - mae: 14.3566\n",
            "Epoch 3/400\n",
            "10/10 [==============================] - 0s 3ms/step - loss: 732.4465 - mae: 23.6409\n",
            "Epoch 4/400\n",
            "10/10 [==============================] - 0s 2ms/step - loss: 78.9318 - mae: 6.4050\n",
            "Epoch 5/400\n",
            "10/10 [==============================] - 0s 3ms/step - loss: 74.4732 - mae: 7.2450\n",
            "Epoch 6/400\n",
            "10/10 [==============================] - 0s 3ms/step - loss: 17.9643 - mae: 2.9461\n",
            "Epoch 7/400\n",
            "10/10 [==============================] - 0s 3ms/step - loss: 9.7094 - mae: 2.8829\n",
            "Epoch 8/400\n",
            "10/10 [==============================] - 0s 3ms/step - loss: 2.1650 - mae: 1.2117\n",
            "Epoch 9/400\n",
            "10/10 [==============================] - 0s 3ms/step - loss: 1.7047 - mae: 1.0532\n",
            "Epoch 10/400\n",
            "10/10 [==============================] - 0s 3ms/step - loss: 0.4626 - mae: 0.5798\n",
            "Epoch 11/400\n",
            "10/10 [==============================] - 0s 3ms/step - loss: 0.4518 - mae: 0.6229\n",
            "Epoch 12/400\n",
            "10/10 [==============================] - 0s 3ms/step - loss: 0.2787 - mae: 0.4488\n",
            "Epoch 13/400\n",
            "10/10 [==============================] - 0s 3ms/step - loss: 0.2818 - mae: 0.4562\n",
            "Epoch 14/400\n",
            "10/10 [==============================] - 0s 3ms/step - loss: 0.2702 - mae: 0.4325\n",
            "Epoch 15/400\n",
            "10/10 [==============================] - 0s 3ms/step - loss: 0.2625 - mae: 0.4310\n",
            "Epoch 16/400\n",
            "10/10 [==============================] - 0s 3ms/step - loss: 0.2619 - mae: 0.4353\n",
            "Epoch 17/400\n",
            "10/10 [==============================] - 0s 3ms/step - loss: 0.2595 - mae: 0.4289\n",
            "Epoch 18/400\n",
            "10/10 [==============================] - 0s 3ms/step - loss: 0.2580 - mae: 0.4287\n",
            "Epoch 19/400\n",
            "10/10 [==============================] - 0s 3ms/step - loss: 0.2573 - mae: 0.4284\n",
            "Epoch 20/400\n",
            "10/10 [==============================] - 0s 2ms/step - loss: 0.2557 - mae: 0.4258\n",
            "Epoch 21/400\n",
            "10/10 [==============================] - 0s 3ms/step - loss: 0.2544 - mae: 0.4280\n",
            "Epoch 22/400\n",
            "10/10 [==============================] - 0s 3ms/step - loss: 0.2536 - mae: 0.4253\n",
            "Epoch 23/400\n",
            "10/10 [==============================] - 0s 3ms/step - loss: 0.2518 - mae: 0.4247\n",
            "Epoch 24/400\n",
            "10/10 [==============================] - 0s 3ms/step - loss: 0.2504 - mae: 0.4228\n",
            "Epoch 25/400\n",
            "10/10 [==============================] - 0s 3ms/step - loss: 0.2491 - mae: 0.4220\n",
            "Epoch 26/400\n",
            "10/10 [==============================] - 0s 3ms/step - loss: 0.2474 - mae: 0.4188\n",
            "Epoch 27/400\n",
            "10/10 [==============================] - 0s 3ms/step - loss: 0.2468 - mae: 0.4209\n",
            "Epoch 28/400\n",
            "10/10 [==============================] - 0s 3ms/step - loss: 0.2479 - mae: 0.4203\n",
            "Epoch 29/400\n",
            "10/10 [==============================] - 0s 2ms/step - loss: 0.2457 - mae: 0.4206\n",
            "Epoch 30/400\n",
            "10/10 [==============================] - 0s 3ms/step - loss: 0.2426 - mae: 0.4150\n",
            "Epoch 31/400\n",
            "10/10 [==============================] - 0s 4ms/step - loss: 0.2409 - mae: 0.4150\n",
            "Epoch 32/400\n",
            "10/10 [==============================] - 0s 3ms/step - loss: 0.2381 - mae: 0.4140\n",
            "Epoch 33/400\n",
            "10/10 [==============================] - 0s 3ms/step - loss: 0.2371 - mae: 0.4089\n",
            "Epoch 34/400\n",
            "10/10 [==============================] - 0s 3ms/step - loss: 0.2349 - mae: 0.4099\n",
            "Epoch 35/400\n",
            "10/10 [==============================] - 0s 2ms/step - loss: 0.2345 - mae: 0.4088\n",
            "Epoch 36/400\n",
            "10/10 [==============================] - 0s 3ms/step - loss: 0.2322 - mae: 0.4090\n",
            "Epoch 37/400\n",
            "10/10 [==============================] - 0s 2ms/step - loss: 0.2300 - mae: 0.4039\n",
            "Epoch 38/400\n",
            "10/10 [==============================] - 0s 3ms/step - loss: 0.2288 - mae: 0.4040\n",
            "Epoch 39/400\n",
            "10/10 [==============================] - 0s 3ms/step - loss: 0.2264 - mae: 0.4015\n",
            "Epoch 40/400\n",
            "10/10 [==============================] - 0s 3ms/step - loss: 0.2255 - mae: 0.3998\n",
            "Epoch 41/400\n",
            "10/10 [==============================] - 0s 3ms/step - loss: 0.2245 - mae: 0.3999\n",
            "Epoch 42/400\n",
            "10/10 [==============================] - 0s 5ms/step - loss: 0.2226 - mae: 0.3995\n",
            "Epoch 43/400\n",
            "10/10 [==============================] - 0s 3ms/step - loss: 0.2201 - mae: 0.3944\n",
            "Epoch 44/400\n",
            "10/10 [==============================] - 0s 3ms/step - loss: 0.2191 - mae: 0.3967\n",
            "Epoch 45/400\n",
            "10/10 [==============================] - 0s 3ms/step - loss: 0.2166 - mae: 0.3930\n",
            "Epoch 46/400\n",
            "10/10 [==============================] - 0s 3ms/step - loss: 0.2150 - mae: 0.3934\n",
            "Epoch 47/400\n",
            "10/10 [==============================] - 0s 2ms/step - loss: 0.2140 - mae: 0.3921\n",
            "Epoch 48/400\n",
            "10/10 [==============================] - 0s 2ms/step - loss: 0.2109 - mae: 0.3869\n",
            "Epoch 49/400\n",
            "10/10 [==============================] - 0s 4ms/step - loss: 0.2089 - mae: 0.3865\n",
            "Epoch 50/400\n",
            "10/10 [==============================] - 0s 2ms/step - loss: 0.2074 - mae: 0.3840\n",
            "Epoch 51/400\n",
            "10/10 [==============================] - 0s 3ms/step - loss: 0.2059 - mae: 0.3844\n",
            "Epoch 52/400\n",
            "10/10 [==============================] - 0s 3ms/step - loss: 0.2041 - mae: 0.3798\n",
            "Epoch 53/400\n",
            "10/10 [==============================] - 0s 2ms/step - loss: 0.2025 - mae: 0.3817\n",
            "Epoch 54/400\n",
            "10/10 [==============================] - 0s 2ms/step - loss: 0.1999 - mae: 0.3765\n",
            "Epoch 55/400\n",
            "10/10 [==============================] - 0s 2ms/step - loss: 0.1992 - mae: 0.3786\n",
            "Epoch 56/400\n",
            "10/10 [==============================] - 0s 2ms/step - loss: 0.1963 - mae: 0.3717\n",
            "Epoch 57/400\n",
            "10/10 [==============================] - 0s 3ms/step - loss: 0.1948 - mae: 0.3736\n",
            "Epoch 58/400\n",
            "10/10 [==============================] - 0s 3ms/step - loss: 0.1924 - mae: 0.3702\n",
            "Epoch 59/400\n",
            "10/10 [==============================] - 0s 3ms/step - loss: 0.1903 - mae: 0.3683\n",
            "Epoch 60/400\n",
            "10/10 [==============================] - 0s 2ms/step - loss: 0.1884 - mae: 0.3671\n",
            "Epoch 61/400\n",
            "10/10 [==============================] - 0s 2ms/step - loss: 0.1867 - mae: 0.3645\n",
            "Epoch 62/400\n",
            "10/10 [==============================] - 0s 3ms/step - loss: 0.1854 - mae: 0.3643\n",
            "Epoch 63/400\n",
            "10/10 [==============================] - 0s 3ms/step - loss: 0.1834 - mae: 0.3617\n",
            "Epoch 64/400\n",
            "10/10 [==============================] - 0s 2ms/step - loss: 0.1815 - mae: 0.3606\n",
            "Epoch 65/400\n",
            "10/10 [==============================] - 0s 2ms/step - loss: 0.1793 - mae: 0.3565\n",
            "Epoch 66/400\n",
            "10/10 [==============================] - 0s 3ms/step - loss: 0.1777 - mae: 0.3556\n",
            "Epoch 67/400\n",
            "10/10 [==============================] - 0s 3ms/step - loss: 0.1758 - mae: 0.3556\n",
            "Epoch 68/400\n",
            "10/10 [==============================] - 0s 3ms/step - loss: 0.1741 - mae: 0.3520\n",
            "Epoch 69/400\n",
            "10/10 [==============================] - 0s 3ms/step - loss: 0.1721 - mae: 0.3515\n",
            "Epoch 70/400\n",
            "10/10 [==============================] - 0s 2ms/step - loss: 0.1705 - mae: 0.3485\n",
            "Epoch 71/400\n",
            "10/10 [==============================] - 0s 3ms/step - loss: 0.1692 - mae: 0.3493\n",
            "Epoch 72/400\n",
            "10/10 [==============================] - 0s 3ms/step - loss: 0.1682 - mae: 0.3468\n",
            "Epoch 73/400\n",
            "10/10 [==============================] - 0s 2ms/step - loss: 0.1644 - mae: 0.3421\n",
            "Epoch 74/400\n",
            "10/10 [==============================] - 0s 3ms/step - loss: 0.1626 - mae: 0.3414\n",
            "Epoch 75/400\n",
            "10/10 [==============================] - 0s 2ms/step - loss: 0.1607 - mae: 0.3402\n",
            "Epoch 76/400\n",
            "10/10 [==============================] - 0s 2ms/step - loss: 0.1592 - mae: 0.3348\n",
            "Epoch 77/400\n",
            "10/10 [==============================] - 0s 3ms/step - loss: 0.1576 - mae: 0.3378\n",
            "Epoch 78/400\n",
            "10/10 [==============================] - 0s 3ms/step - loss: 0.1555 - mae: 0.3315\n",
            "Epoch 79/400\n",
            "10/10 [==============================] - 0s 3ms/step - loss: 0.1536 - mae: 0.3322\n",
            "Epoch 80/400\n",
            "10/10 [==============================] - 0s 3ms/step - loss: 0.1515 - mae: 0.3290\n",
            "Epoch 81/400\n",
            "10/10 [==============================] - 0s 2ms/step - loss: 0.1494 - mae: 0.3275\n",
            "Epoch 82/400\n",
            "10/10 [==============================] - 0s 2ms/step - loss: 0.1479 - mae: 0.3239\n",
            "Epoch 83/400\n",
            "10/10 [==============================] - 0s 3ms/step - loss: 0.1457 - mae: 0.3222\n",
            "Epoch 84/400\n",
            "10/10 [==============================] - 0s 2ms/step - loss: 0.1446 - mae: 0.3223\n",
            "Epoch 85/400\n",
            "10/10 [==============================] - 0s 2ms/step - loss: 0.1422 - mae: 0.3182\n",
            "Epoch 86/400\n",
            "10/10 [==============================] - 0s 2ms/step - loss: 0.1401 - mae: 0.3176\n",
            "Epoch 87/400\n",
            "10/10 [==============================] - 0s 2ms/step - loss: 0.1402 - mae: 0.3149\n",
            "Epoch 88/400\n",
            "10/10 [==============================] - 0s 3ms/step - loss: 0.1370 - mae: 0.3132\n",
            "Epoch 89/400\n",
            "10/10 [==============================] - 0s 3ms/step - loss: 0.1353 - mae: 0.3096\n",
            "Epoch 90/400\n",
            "10/10 [==============================] - 0s 3ms/step - loss: 0.1339 - mae: 0.3090\n",
            "Epoch 91/400\n",
            "10/10 [==============================] - 0s 3ms/step - loss: 0.1325 - mae: 0.3086\n",
            "Epoch 92/400\n",
            "10/10 [==============================] - 0s 3ms/step - loss: 0.1309 - mae: 0.3026\n",
            "Epoch 93/400\n",
            "10/10 [==============================] - 0s 3ms/step - loss: 0.1285 - mae: 0.3054\n",
            "Epoch 94/400\n",
            "10/10 [==============================] - 0s 3ms/step - loss: 0.1263 - mae: 0.2978\n",
            "Epoch 95/400\n",
            "10/10 [==============================] - 0s 2ms/step - loss: 0.1246 - mae: 0.2991\n",
            "Epoch 96/400\n",
            "10/10 [==============================] - 0s 3ms/step - loss: 0.1242 - mae: 0.2961\n",
            "Epoch 97/400\n",
            "10/10 [==============================] - 0s 2ms/step - loss: 0.1221 - mae: 0.2980\n",
            "Epoch 98/400\n",
            "10/10 [==============================] - 0s 3ms/step - loss: 0.1204 - mae: 0.2911\n",
            "Epoch 99/400\n",
            "10/10 [==============================] - 0s 2ms/step - loss: 0.1180 - mae: 0.2899\n",
            "Epoch 100/400\n",
            "10/10 [==============================] - 0s 2ms/step - loss: 0.1160 - mae: 0.2877\n",
            "Epoch 101/400\n",
            "10/10 [==============================] - 0s 2ms/step - loss: 0.1150 - mae: 0.2865\n",
            "Epoch 102/400\n",
            "10/10 [==============================] - 0s 2ms/step - loss: 0.1138 - mae: 0.2849\n",
            "Epoch 103/400\n",
            "10/10 [==============================] - 0s 2ms/step - loss: 0.1112 - mae: 0.2819\n",
            "Epoch 104/400\n",
            "10/10 [==============================] - 0s 3ms/step - loss: 0.1093 - mae: 0.2795\n",
            "Epoch 105/400\n",
            "10/10 [==============================] - 0s 2ms/step - loss: 0.1080 - mae: 0.2760\n",
            "Epoch 106/400\n",
            "10/10 [==============================] - 0s 4ms/step - loss: 0.1078 - mae: 0.2788\n",
            "Epoch 107/400\n",
            "10/10 [==============================] - 0s 3ms/step - loss: 0.1054 - mae: 0.2761\n",
            "Epoch 108/400\n",
            "10/10 [==============================] - 0s 3ms/step - loss: 0.1040 - mae: 0.2748\n",
            "Epoch 109/400\n",
            "10/10 [==============================] - 0s 3ms/step - loss: 0.1014 - mae: 0.2670\n",
            "Epoch 110/400\n",
            "10/10 [==============================] - 0s 2ms/step - loss: 0.1005 - mae: 0.2688\n",
            "Epoch 111/400\n",
            "10/10 [==============================] - 0s 2ms/step - loss: 0.0989 - mae: 0.2655\n",
            "Epoch 112/400\n",
            "10/10 [==============================] - 0s 3ms/step - loss: 0.0970 - mae: 0.2633\n",
            "Epoch 113/400\n",
            "10/10 [==============================] - 0s 3ms/step - loss: 0.0956 - mae: 0.2599\n",
            "Epoch 114/400\n",
            "10/10 [==============================] - 0s 4ms/step - loss: 0.0941 - mae: 0.2589\n",
            "Epoch 115/400\n",
            "10/10 [==============================] - 0s 2ms/step - loss: 0.0920 - mae: 0.2548\n",
            "Epoch 116/400\n",
            "10/10 [==============================] - 0s 4ms/step - loss: 0.0917 - mae: 0.2567\n",
            "Epoch 117/400\n",
            "10/10 [==============================] - 0s 3ms/step - loss: 0.0893 - mae: 0.2524\n",
            "Epoch 118/400\n",
            "10/10 [==============================] - 0s 2ms/step - loss: 0.0888 - mae: 0.2525\n",
            "Epoch 119/400\n",
            "10/10 [==============================] - 0s 3ms/step - loss: 0.0868 - mae: 0.2480\n",
            "Epoch 120/400\n",
            "10/10 [==============================] - 0s 3ms/step - loss: 0.0856 - mae: 0.2479\n",
            "Epoch 121/400\n",
            "10/10 [==============================] - 0s 2ms/step - loss: 0.0850 - mae: 0.2476\n",
            "Epoch 122/400\n",
            "10/10 [==============================] - 0s 2ms/step - loss: 0.0830 - mae: 0.2427\n",
            "Epoch 123/400\n",
            "10/10 [==============================] - 0s 2ms/step - loss: 0.0815 - mae: 0.2392\n",
            "Epoch 124/400\n",
            "10/10 [==============================] - 0s 3ms/step - loss: 0.0803 - mae: 0.2424\n",
            "Epoch 125/400\n",
            "10/10 [==============================] - 0s 3ms/step - loss: 0.0796 - mae: 0.2380\n",
            "Epoch 126/400\n",
            "10/10 [==============================] - 0s 3ms/step - loss: 0.0768 - mae: 0.2334\n",
            "Epoch 127/400\n",
            "10/10 [==============================] - 0s 3ms/step - loss: 0.0754 - mae: 0.2332\n",
            "Epoch 128/400\n",
            "10/10 [==============================] - 0s 2ms/step - loss: 0.0740 - mae: 0.2296\n",
            "Epoch 129/400\n",
            "10/10 [==============================] - 0s 2ms/step - loss: 0.0732 - mae: 0.2276\n",
            "Epoch 130/400\n",
            "10/10 [==============================] - 0s 2ms/step - loss: 0.0717 - mae: 0.2258\n",
            "Epoch 131/400\n",
            "10/10 [==============================] - 0s 3ms/step - loss: 0.0711 - mae: 0.2248\n",
            "Epoch 132/400\n",
            "10/10 [==============================] - 0s 2ms/step - loss: 0.0708 - mae: 0.2237\n",
            "Epoch 133/400\n",
            "10/10 [==============================] - 0s 3ms/step - loss: 0.0680 - mae: 0.2210\n",
            "Epoch 134/400\n",
            "10/10 [==============================] - 0s 2ms/step - loss: 0.0664 - mae: 0.2168\n",
            "Epoch 135/400\n",
            "10/10 [==============================] - 0s 2ms/step - loss: 0.0652 - mae: 0.2163\n",
            "Epoch 136/400\n",
            "10/10 [==============================] - 0s 3ms/step - loss: 0.0643 - mae: 0.2146\n",
            "Epoch 137/400\n",
            "10/10 [==============================] - 0s 2ms/step - loss: 0.0630 - mae: 0.2113\n",
            "Epoch 138/400\n",
            "10/10 [==============================] - 0s 2ms/step - loss: 0.0625 - mae: 0.2096\n",
            "Epoch 139/400\n",
            "10/10 [==============================] - 0s 3ms/step - loss: 0.0602 - mae: 0.2088\n",
            "Epoch 140/400\n",
            "10/10 [==============================] - 0s 2ms/step - loss: 0.0592 - mae: 0.2042\n",
            "Epoch 141/400\n",
            "10/10 [==============================] - 0s 3ms/step - loss: 0.0584 - mae: 0.2046\n",
            "Epoch 142/400\n",
            "10/10 [==============================] - 0s 2ms/step - loss: 0.0573 - mae: 0.2029\n",
            "Epoch 143/400\n",
            "10/10 [==============================] - 0s 2ms/step - loss: 0.0558 - mae: 0.1990\n",
            "Epoch 144/400\n",
            "10/10 [==============================] - 0s 3ms/step - loss: 0.0545 - mae: 0.1954\n",
            "Epoch 145/400\n",
            "10/10 [==============================] - 0s 2ms/step - loss: 0.0552 - mae: 0.2001\n",
            "Epoch 146/400\n",
            "10/10 [==============================] - 0s 3ms/step - loss: 0.0539 - mae: 0.1966\n",
            "Epoch 147/400\n",
            "10/10 [==============================] - 0s 3ms/step - loss: 0.0520 - mae: 0.1912\n",
            "Epoch 148/400\n",
            "10/10 [==============================] - 0s 3ms/step - loss: 0.0512 - mae: 0.1902\n",
            "Epoch 149/400\n",
            "10/10 [==============================] - 0s 3ms/step - loss: 0.0508 - mae: 0.1914\n",
            "Epoch 150/400\n",
            "10/10 [==============================] - 0s 3ms/step - loss: 0.0494 - mae: 0.1878\n",
            "Epoch 151/400\n",
            "10/10 [==============================] - 0s 4ms/step - loss: 0.0484 - mae: 0.1860\n",
            "Epoch 152/400\n",
            "10/10 [==============================] - 0s 3ms/step - loss: 0.0468 - mae: 0.1828\n",
            "Epoch 153/400\n",
            "10/10 [==============================] - 0s 3ms/step - loss: 0.0459 - mae: 0.1802\n",
            "Epoch 154/400\n",
            "10/10 [==============================] - 0s 3ms/step - loss: 0.0450 - mae: 0.1798\n",
            "Epoch 155/400\n",
            "10/10 [==============================] - 0s 4ms/step - loss: 0.0440 - mae: 0.1777\n",
            "Epoch 156/400\n",
            "10/10 [==============================] - 0s 3ms/step - loss: 0.0443 - mae: 0.1776\n",
            "Epoch 157/400\n",
            "10/10 [==============================] - 0s 3ms/step - loss: 0.0430 - mae: 0.1734\n",
            "Epoch 158/400\n",
            "10/10 [==============================] - 0s 3ms/step - loss: 0.0415 - mae: 0.1720\n",
            "Epoch 159/400\n",
            "10/10 [==============================] - 0s 4ms/step - loss: 0.0402 - mae: 0.1697\n",
            "Epoch 160/400\n",
            "10/10 [==============================] - 0s 3ms/step - loss: 0.0395 - mae: 0.1666\n",
            "Epoch 161/400\n",
            "10/10 [==============================] - 0s 3ms/step - loss: 0.0386 - mae: 0.1668\n",
            "Epoch 162/400\n",
            "10/10 [==============================] - 0s 3ms/step - loss: 0.0379 - mae: 0.1635\n",
            "Epoch 163/400\n",
            "10/10 [==============================] - 0s 3ms/step - loss: 0.0372 - mae: 0.1630\n",
            "Epoch 164/400\n",
            "10/10 [==============================] - 0s 3ms/step - loss: 0.0366 - mae: 0.1622\n",
            "Epoch 165/400\n",
            "10/10 [==============================] - 0s 3ms/step - loss: 0.0350 - mae: 0.1575\n",
            "Epoch 166/400\n",
            "10/10 [==============================] - 0s 3ms/step - loss: 0.0343 - mae: 0.1564\n",
            "Epoch 167/400\n",
            "10/10 [==============================] - 0s 4ms/step - loss: 0.0338 - mae: 0.1549\n",
            "Epoch 168/400\n",
            "10/10 [==============================] - 0s 3ms/step - loss: 0.0330 - mae: 0.1540\n",
            "Epoch 169/400\n",
            "10/10 [==============================] - 0s 3ms/step - loss: 0.0324 - mae: 0.1511\n",
            "Epoch 170/400\n",
            "10/10 [==============================] - 0s 3ms/step - loss: 0.0320 - mae: 0.1511\n",
            "Epoch 171/400\n",
            "10/10 [==============================] - 0s 3ms/step - loss: 0.0312 - mae: 0.1496\n",
            "Epoch 172/400\n",
            "10/10 [==============================] - 0s 3ms/step - loss: 0.0307 - mae: 0.1485\n",
            "Epoch 173/400\n",
            "10/10 [==============================] - 0s 3ms/step - loss: 0.0298 - mae: 0.1456\n",
            "Epoch 174/400\n",
            "10/10 [==============================] - 0s 3ms/step - loss: 0.0287 - mae: 0.1425\n",
            "Epoch 175/400\n",
            "10/10 [==============================] - 0s 3ms/step - loss: 0.0280 - mae: 0.1407\n",
            "Epoch 176/400\n",
            "10/10 [==============================] - 0s 3ms/step - loss: 0.0273 - mae: 0.1404\n",
            "Epoch 177/400\n",
            "10/10 [==============================] - 0s 2ms/step - loss: 0.0276 - mae: 0.1401\n",
            "Epoch 178/400\n",
            "10/10 [==============================] - 0s 2ms/step - loss: 0.0270 - mae: 0.1382\n",
            "Epoch 179/400\n",
            "10/10 [==============================] - 0s 3ms/step - loss: 0.0260 - mae: 0.1364\n",
            "Epoch 180/400\n",
            "10/10 [==============================] - 0s 3ms/step - loss: 0.0247 - mae: 0.1320\n",
            "Epoch 181/400\n",
            "10/10 [==============================] - 0s 3ms/step - loss: 0.0241 - mae: 0.1303\n",
            "Epoch 182/400\n",
            "10/10 [==============================] - 0s 3ms/step - loss: 0.0238 - mae: 0.1316\n",
            "Epoch 183/400\n",
            "10/10 [==============================] - 0s 3ms/step - loss: 0.0233 - mae: 0.1292\n",
            "Epoch 184/400\n",
            "10/10 [==============================] - 0s 4ms/step - loss: 0.0223 - mae: 0.1264\n",
            "Epoch 185/400\n",
            "10/10 [==============================] - 0s 3ms/step - loss: 0.0218 - mae: 0.1248\n",
            "Epoch 186/400\n",
            "10/10 [==============================] - 0s 3ms/step - loss: 0.0212 - mae: 0.1220\n",
            "Epoch 187/400\n",
            "10/10 [==============================] - 0s 3ms/step - loss: 0.0208 - mae: 0.1215\n",
            "Epoch 188/400\n",
            "10/10 [==============================] - 0s 3ms/step - loss: 0.0205 - mae: 0.1206\n",
            "Epoch 189/400\n",
            "10/10 [==============================] - 0s 3ms/step - loss: 0.0203 - mae: 0.1202\n",
            "Epoch 190/400\n",
            "10/10 [==============================] - 0s 3ms/step - loss: 0.0208 - mae: 0.1217\n",
            "Epoch 191/400\n",
            "10/10 [==============================] - 0s 2ms/step - loss: 0.0192 - mae: 0.1174\n",
            "Epoch 192/400\n",
            "10/10 [==============================] - 0s 3ms/step - loss: 0.0182 - mae: 0.1129\n",
            "Epoch 193/400\n",
            "10/10 [==============================] - 0s 3ms/step - loss: 0.0178 - mae: 0.1122\n",
            "Epoch 194/400\n",
            "10/10 [==============================] - 0s 3ms/step - loss: 0.0173 - mae: 0.1112\n",
            "Epoch 195/400\n",
            "10/10 [==============================] - 0s 3ms/step - loss: 0.0167 - mae: 0.1088\n",
            "Epoch 196/400\n",
            "10/10 [==============================] - 0s 3ms/step - loss: 0.0164 - mae: 0.1081\n",
            "Epoch 197/400\n",
            "10/10 [==============================] - 0s 3ms/step - loss: 0.0161 - mae: 0.1073\n",
            "Epoch 198/400\n",
            "10/10 [==============================] - 0s 2ms/step - loss: 0.0155 - mae: 0.1053\n",
            "Epoch 199/400\n",
            "10/10 [==============================] - 0s 3ms/step - loss: 0.0152 - mae: 0.1036\n",
            "Epoch 200/400\n",
            "10/10 [==============================] - 0s 3ms/step - loss: 0.0146 - mae: 0.1010\n",
            "Epoch 201/400\n",
            "10/10 [==============================] - 0s 3ms/step - loss: 0.0143 - mae: 0.1010\n",
            "Epoch 202/400\n",
            "10/10 [==============================] - 0s 3ms/step - loss: 0.0137 - mae: 0.0992\n",
            "Epoch 203/400\n",
            "10/10 [==============================] - 0s 3ms/step - loss: 0.0137 - mae: 0.0986\n",
            "Epoch 204/400\n",
            "10/10 [==============================] - 0s 3ms/step - loss: 0.0135 - mae: 0.0986\n",
            "Epoch 205/400\n",
            "10/10 [==============================] - 0s 3ms/step - loss: 0.0129 - mae: 0.0962\n",
            "Epoch 206/400\n",
            "10/10 [==============================] - 0s 3ms/step - loss: 0.0123 - mae: 0.0933\n",
            "Epoch 207/400\n",
            "10/10 [==============================] - 0s 3ms/step - loss: 0.0121 - mae: 0.0934\n",
            "Epoch 208/400\n",
            "10/10 [==============================] - 0s 3ms/step - loss: 0.0118 - mae: 0.0914\n",
            "Epoch 209/400\n",
            "10/10 [==============================] - 0s 3ms/step - loss: 0.0114 - mae: 0.0901\n",
            "Epoch 210/400\n",
            "10/10 [==============================] - 0s 3ms/step - loss: 0.0110 - mae: 0.0886\n",
            "Epoch 211/400\n",
            "10/10 [==============================] - 0s 3ms/step - loss: 0.0106 - mae: 0.0868\n",
            "Epoch 212/400\n",
            "10/10 [==============================] - 0s 3ms/step - loss: 0.0105 - mae: 0.0863\n",
            "Epoch 213/400\n",
            "10/10 [==============================] - 0s 3ms/step - loss: 0.0104 - mae: 0.0864\n",
            "Epoch 214/400\n",
            "10/10 [==============================] - 0s 3ms/step - loss: 0.0098 - mae: 0.0832\n",
            "Epoch 215/400\n",
            "10/10 [==============================] - 0s 3ms/step - loss: 0.0096 - mae: 0.0831\n",
            "Epoch 216/400\n",
            "10/10 [==============================] - 0s 3ms/step - loss: 0.0091 - mae: 0.0812\n",
            "Epoch 217/400\n",
            "10/10 [==============================] - 0s 3ms/step - loss: 0.0090 - mae: 0.0805\n",
            "Epoch 218/400\n",
            "10/10 [==============================] - 0s 3ms/step - loss: 0.0087 - mae: 0.0787\n",
            "Epoch 219/400\n",
            "10/10 [==============================] - 0s 4ms/step - loss: 0.0085 - mae: 0.0771\n",
            "Epoch 220/400\n",
            "10/10 [==============================] - 0s 3ms/step - loss: 0.0085 - mae: 0.0781\n",
            "Epoch 221/400\n",
            "10/10 [==============================] - 0s 3ms/step - loss: 0.0079 - mae: 0.0755\n",
            "Epoch 222/400\n",
            "10/10 [==============================] - 0s 2ms/step - loss: 0.0077 - mae: 0.0736\n",
            "Epoch 223/400\n",
            "10/10 [==============================] - 0s 2ms/step - loss: 0.0076 - mae: 0.0727\n",
            "Epoch 224/400\n",
            "10/10 [==============================] - 0s 3ms/step - loss: 0.0074 - mae: 0.0729\n",
            "Epoch 225/400\n",
            "10/10 [==============================] - 0s 3ms/step - loss: 0.0072 - mae: 0.0708\n",
            "Epoch 226/400\n",
            "10/10 [==============================] - 0s 3ms/step - loss: 0.0074 - mae: 0.0727\n",
            "Epoch 227/400\n",
            "10/10 [==============================] - 0s 3ms/step - loss: 0.0070 - mae: 0.0710\n",
            "Epoch 228/400\n",
            "10/10 [==============================] - 0s 2ms/step - loss: 0.0065 - mae: 0.0678\n",
            "Epoch 229/400\n",
            "10/10 [==============================] - 0s 3ms/step - loss: 0.0062 - mae: 0.0662\n",
            "Epoch 230/400\n",
            "10/10 [==============================] - 0s 3ms/step - loss: 0.0060 - mae: 0.0654\n",
            "Epoch 231/400\n",
            "10/10 [==============================] - 0s 2ms/step - loss: 0.0058 - mae: 0.0641\n",
            "Epoch 232/400\n",
            "10/10 [==============================] - 0s 3ms/step - loss: 0.0057 - mae: 0.0637\n",
            "Epoch 233/400\n",
            "10/10 [==============================] - 0s 3ms/step - loss: 0.0054 - mae: 0.0620\n",
            "Epoch 234/400\n",
            "10/10 [==============================] - 0s 3ms/step - loss: 0.0052 - mae: 0.0608\n",
            "Epoch 235/400\n",
            "10/10 [==============================] - 0s 2ms/step - loss: 0.0051 - mae: 0.0592\n",
            "Epoch 236/400\n",
            "10/10 [==============================] - 0s 3ms/step - loss: 0.0050 - mae: 0.0595\n",
            "Epoch 237/400\n",
            "10/10 [==============================] - 0s 3ms/step - loss: 0.0048 - mae: 0.0587\n",
            "Epoch 238/400\n",
            "10/10 [==============================] - 0s 3ms/step - loss: 0.0045 - mae: 0.0566\n",
            "Epoch 239/400\n",
            "10/10 [==============================] - 0s 3ms/step - loss: 0.0044 - mae: 0.0555\n",
            "Epoch 240/400\n",
            "10/10 [==============================] - 0s 3ms/step - loss: 0.0043 - mae: 0.0559\n",
            "Epoch 241/400\n",
            "10/10 [==============================] - 0s 3ms/step - loss: 0.0041 - mae: 0.0542\n",
            "Epoch 242/400\n",
            "10/10 [==============================] - 0s 3ms/step - loss: 0.0039 - mae: 0.0532\n",
            "Epoch 243/400\n",
            "10/10 [==============================] - 0s 2ms/step - loss: 0.0038 - mae: 0.0522\n",
            "Epoch 244/400\n",
            "10/10 [==============================] - 0s 3ms/step - loss: 0.0037 - mae: 0.0513\n",
            "Epoch 245/400\n",
            "10/10 [==============================] - 0s 3ms/step - loss: 0.0037 - mae: 0.0510\n",
            "Epoch 246/400\n",
            "10/10 [==============================] - 0s 2ms/step - loss: 0.0037 - mae: 0.0509\n",
            "Epoch 247/400\n",
            "10/10 [==============================] - 0s 3ms/step - loss: 0.0036 - mae: 0.0510\n",
            "Epoch 248/400\n",
            "10/10 [==============================] - 0s 3ms/step - loss: 0.0034 - mae: 0.0495\n",
            "Epoch 249/400\n",
            "10/10 [==============================] - 0s 3ms/step - loss: 0.0031 - mae: 0.0468\n",
            "Epoch 250/400\n",
            "10/10 [==============================] - 0s 3ms/step - loss: 0.0031 - mae: 0.0471\n",
            "Epoch 251/400\n",
            "10/10 [==============================] - 0s 3ms/step - loss: 0.0029 - mae: 0.0450\n",
            "Epoch 252/400\n",
            "10/10 [==============================] - 0s 2ms/step - loss: 0.0028 - mae: 0.0440\n",
            "Epoch 253/400\n",
            "10/10 [==============================] - 0s 3ms/step - loss: 0.0027 - mae: 0.0434\n",
            "Epoch 254/400\n",
            "10/10 [==============================] - 0s 3ms/step - loss: 0.0027 - mae: 0.0434\n",
            "Epoch 255/400\n",
            "10/10 [==============================] - 0s 3ms/step - loss: 0.0026 - mae: 0.0422\n",
            "Epoch 256/400\n",
            "10/10 [==============================] - 0s 3ms/step - loss: 0.0024 - mae: 0.0412\n",
            "Epoch 257/400\n",
            "10/10 [==============================] - 0s 3ms/step - loss: 0.0023 - mae: 0.0405\n",
            "Epoch 258/400\n",
            "10/10 [==============================] - 0s 3ms/step - loss: 0.0022 - mae: 0.0397\n",
            "Epoch 259/400\n",
            "10/10 [==============================] - 0s 2ms/step - loss: 0.0022 - mae: 0.0391\n",
            "Epoch 260/400\n",
            "10/10 [==============================] - 0s 3ms/step - loss: 0.0021 - mae: 0.0380\n",
            "Epoch 261/400\n",
            "10/10 [==============================] - 0s 3ms/step - loss: 0.0020 - mae: 0.0372\n",
            "Epoch 262/400\n",
            "10/10 [==============================] - 0s 3ms/step - loss: 0.0019 - mae: 0.0366\n",
            "Epoch 263/400\n",
            "10/10 [==============================] - 0s 3ms/step - loss: 0.0019 - mae: 0.0364\n",
            "Epoch 264/400\n",
            "10/10 [==============================] - 0s 3ms/step - loss: 0.0018 - mae: 0.0353\n",
            "Epoch 265/400\n",
            "10/10 [==============================] - 0s 3ms/step - loss: 0.0018 - mae: 0.0350\n",
            "Epoch 266/400\n",
            "10/10 [==============================] - 0s 2ms/step - loss: 0.0017 - mae: 0.0343\n",
            "Epoch 267/400\n",
            "10/10 [==============================] - 0s 3ms/step - loss: 0.0017 - mae: 0.0341\n",
            "Epoch 268/400\n",
            "10/10 [==============================] - 0s 3ms/step - loss: 0.0015 - mae: 0.0325\n",
            "Epoch 269/400\n",
            "10/10 [==============================] - 0s 3ms/step - loss: 0.0015 - mae: 0.0321\n",
            "Epoch 270/400\n",
            "10/10 [==============================] - 0s 3ms/step - loss: 0.0014 - mae: 0.0317\n",
            "Epoch 271/400\n",
            "10/10 [==============================] - 0s 3ms/step - loss: 0.0015 - mae: 0.0318\n",
            "Epoch 272/400\n",
            "10/10 [==============================] - 0s 2ms/step - loss: 0.0013 - mae: 0.0304\n",
            "Epoch 273/400\n",
            "10/10 [==============================] - 0s 3ms/step - loss: 0.0013 - mae: 0.0299\n",
            "Epoch 274/400\n",
            "10/10 [==============================] - 0s 3ms/step - loss: 0.0013 - mae: 0.0294\n",
            "Epoch 275/400\n",
            "10/10 [==============================] - 0s 3ms/step - loss: 0.0012 - mae: 0.0284\n",
            "Epoch 276/400\n",
            "10/10 [==============================] - 0s 3ms/step - loss: 0.0012 - mae: 0.0280\n",
            "Epoch 277/400\n",
            "10/10 [==============================] - 0s 2ms/step - loss: 0.0011 - mae: 0.0274\n",
            "Epoch 278/400\n",
            "10/10 [==============================] - 0s 3ms/step - loss: 0.0011 - mae: 0.0268\n",
            "Epoch 279/400\n",
            "10/10 [==============================] - 0s 2ms/step - loss: 0.0011 - mae: 0.0265\n",
            "Epoch 280/400\n",
            "10/10 [==============================] - 0s 3ms/step - loss: 9.9223e-04 - mae: 0.0256\n",
            "Epoch 281/400\n",
            "10/10 [==============================] - 0s 3ms/step - loss: 9.5483e-04 - mae: 0.0252\n",
            "Epoch 282/400\n",
            "10/10 [==============================] - 0s 3ms/step - loss: 9.5876e-04 - mae: 0.0252\n",
            "Epoch 283/400\n",
            "10/10 [==============================] - 0s 3ms/step - loss: 9.3920e-04 - mae: 0.0248\n",
            "Epoch 284/400\n",
            "10/10 [==============================] - 0s 2ms/step - loss: 9.1433e-04 - mae: 0.0247\n",
            "Epoch 285/400\n",
            "10/10 [==============================] - 0s 3ms/step - loss: 8.9816e-04 - mae: 0.0245\n",
            "Epoch 286/400\n",
            "10/10 [==============================] - 0s 3ms/step - loss: 8.3664e-04 - mae: 0.0235\n",
            "Epoch 287/400\n",
            "10/10 [==============================] - 0s 3ms/step - loss: 7.6294e-04 - mae: 0.0223\n",
            "Epoch 288/400\n",
            "10/10 [==============================] - 0s 3ms/step - loss: 7.2559e-04 - mae: 0.0216\n",
            "Epoch 289/400\n",
            "10/10 [==============================] - 0s 3ms/step - loss: 7.1052e-04 - mae: 0.0215\n",
            "Epoch 290/400\n",
            "10/10 [==============================] - 0s 3ms/step - loss: 6.7123e-04 - mae: 0.0207\n",
            "Epoch 291/400\n",
            "10/10 [==============================] - 0s 2ms/step - loss: 6.5969e-04 - mae: 0.0205\n",
            "Epoch 292/400\n",
            "10/10 [==============================] - 0s 3ms/step - loss: 6.2829e-04 - mae: 0.0199\n",
            "Epoch 293/400\n",
            "10/10 [==============================] - 0s 3ms/step - loss: 6.1244e-04 - mae: 0.0196\n",
            "Epoch 294/400\n",
            "10/10 [==============================] - 0s 3ms/step - loss: 5.9059e-04 - mae: 0.0191\n",
            "Epoch 295/400\n",
            "10/10 [==============================] - 0s 3ms/step - loss: 5.6478e-04 - mae: 0.0188\n",
            "Epoch 296/400\n",
            "10/10 [==============================] - 0s 3ms/step - loss: 5.4494e-04 - mae: 0.0182\n",
            "Epoch 297/400\n",
            "10/10 [==============================] - 0s 3ms/step - loss: 5.4319e-04 - mae: 0.0182\n",
            "Epoch 298/400\n",
            "10/10 [==============================] - 0s 4ms/step - loss: 5.1785e-04 - mae: 0.0177\n",
            "Epoch 299/400\n",
            "10/10 [==============================] - 0s 2ms/step - loss: 5.0318e-04 - mae: 0.0175\n",
            "Epoch 300/400\n",
            "10/10 [==============================] - 0s 3ms/step - loss: 4.8377e-04 - mae: 0.0168\n",
            "Epoch 301/400\n",
            "10/10 [==============================] - 0s 3ms/step - loss: 4.5728e-04 - mae: 0.0164\n",
            "Epoch 302/400\n",
            "10/10 [==============================] - 0s 2ms/step - loss: 4.7900e-04 - mae: 0.0168\n",
            "Epoch 303/400\n",
            "10/10 [==============================] - 0s 3ms/step - loss: 4.3739e-04 - mae: 0.0159\n",
            "Epoch 304/400\n",
            "10/10 [==============================] - 0s 3ms/step - loss: 4.1504e-04 - mae: 0.0154\n",
            "Epoch 305/400\n",
            "10/10 [==============================] - 0s 3ms/step - loss: 4.0587e-04 - mae: 0.0150\n",
            "Epoch 306/400\n",
            "10/10 [==============================] - 0s 3ms/step - loss: 3.8853e-04 - mae: 0.0149\n",
            "Epoch 307/400\n",
            "10/10 [==============================] - 0s 3ms/step - loss: 3.9887e-04 - mae: 0.0151\n",
            "Epoch 308/400\n",
            "10/10 [==============================] - 0s 3ms/step - loss: 3.6516e-04 - mae: 0.0140\n",
            "Epoch 309/400\n",
            "10/10 [==============================] - 0s 3ms/step - loss: 3.4949e-04 - mae: 0.0137\n",
            "Epoch 310/400\n",
            "10/10 [==============================] - 0s 3ms/step - loss: 3.4095e-04 - mae: 0.0134\n",
            "Epoch 311/400\n",
            "10/10 [==============================] - 0s 2ms/step - loss: 3.2810e-04 - mae: 0.0131\n",
            "Epoch 312/400\n",
            "10/10 [==============================] - 0s 3ms/step - loss: 3.1926e-04 - mae: 0.0127\n",
            "Epoch 313/400\n",
            "10/10 [==============================] - 0s 3ms/step - loss: 3.1893e-04 - mae: 0.0127\n",
            "Epoch 314/400\n",
            "10/10 [==============================] - 0s 3ms/step - loss: 3.0163e-04 - mae: 0.0122\n",
            "Epoch 315/400\n",
            "10/10 [==============================] - 0s 3ms/step - loss: 2.9890e-04 - mae: 0.0121\n",
            "Epoch 316/400\n",
            "10/10 [==============================] - 0s 3ms/step - loss: 3.0158e-04 - mae: 0.0122\n",
            "Epoch 317/400\n",
            "10/10 [==============================] - 0s 3ms/step - loss: 2.8515e-04 - mae: 0.0118\n",
            "Epoch 318/400\n",
            "10/10 [==============================] - 0s 3ms/step - loss: 2.7496e-04 - mae: 0.0113\n",
            "Epoch 319/400\n",
            "10/10 [==============================] - 0s 3ms/step - loss: 2.7229e-04 - mae: 0.0111\n",
            "Epoch 320/400\n",
            "10/10 [==============================] - 0s 3ms/step - loss: 2.5567e-04 - mae: 0.0105\n",
            "Epoch 321/400\n",
            "10/10 [==============================] - 0s 3ms/step - loss: 2.5049e-04 - mae: 0.0104\n",
            "Epoch 322/400\n",
            "10/10 [==============================] - 0s 3ms/step - loss: 2.4204e-04 - mae: 0.0101\n",
            "Epoch 323/400\n",
            "10/10 [==============================] - 0s 3ms/step - loss: 2.3916e-04 - mae: 0.0100\n",
            "Epoch 324/400\n",
            "10/10 [==============================] - 0s 3ms/step - loss: 2.3052e-04 - mae: 0.0096\n",
            "Epoch 325/400\n",
            "10/10 [==============================] - 0s 3ms/step - loss: 2.2720e-04 - mae: 0.0095\n",
            "Epoch 326/400\n",
            "10/10 [==============================] - 0s 3ms/step - loss: 2.2213e-04 - mae: 0.0092\n",
            "Epoch 327/400\n",
            "10/10 [==============================] - 0s 3ms/step - loss: 2.1920e-04 - mae: 0.0091\n",
            "Epoch 328/400\n",
            "10/10 [==============================] - 0s 3ms/step - loss: 2.1697e-04 - mae: 0.0090\n",
            "Epoch 329/400\n",
            "10/10 [==============================] - 0s 4ms/step - loss: 2.1284e-04 - mae: 0.0088\n",
            "Epoch 330/400\n",
            "10/10 [==============================] - 0s 3ms/step - loss: 2.1413e-04 - mae: 0.0089\n",
            "Epoch 331/400\n",
            "10/10 [==============================] - 0s 2ms/step - loss: 2.1557e-04 - mae: 0.0090\n",
            "Epoch 332/400\n",
            "10/10 [==============================] - 0s 2ms/step - loss: 2.0020e-04 - mae: 0.0082\n",
            "Epoch 333/400\n",
            "10/10 [==============================] - 0s 3ms/step - loss: 1.9474e-04 - mae: 0.0079\n",
            "Epoch 334/400\n",
            "10/10 [==============================] - 0s 3ms/step - loss: 1.9197e-04 - mae: 0.0078\n",
            "Epoch 335/400\n",
            "10/10 [==============================] - 0s 3ms/step - loss: 1.9048e-04 - mae: 0.0077\n",
            "Epoch 336/400\n",
            "10/10 [==============================] - 0s 3ms/step - loss: 1.8871e-04 - mae: 0.0077\n",
            "Epoch 337/400\n",
            "10/10 [==============================] - 0s 3ms/step - loss: 1.8309e-04 - mae: 0.0073\n",
            "Epoch 338/400\n",
            "10/10 [==============================] - 0s 3ms/step - loss: 1.8120e-04 - mae: 0.0071\n",
            "Epoch 339/400\n",
            "10/10 [==============================] - 0s 3ms/step - loss: 1.7898e-04 - mae: 0.0069\n",
            "Epoch 340/400\n",
            "10/10 [==============================] - 0s 3ms/step - loss: 1.7570e-04 - mae: 0.0068\n",
            "Epoch 341/400\n",
            "10/10 [==============================] - 0s 2ms/step - loss: 1.7108e-04 - mae: 0.0065\n",
            "Epoch 342/400\n",
            "10/10 [==============================] - 0s 3ms/step - loss: 1.6870e-04 - mae: 0.0063\n",
            "Epoch 343/400\n",
            "10/10 [==============================] - 0s 3ms/step - loss: 1.6789e-04 - mae: 0.0063\n",
            "Epoch 344/400\n",
            "10/10 [==============================] - 0s 2ms/step - loss: 1.6575e-04 - mae: 0.0062\n",
            "Epoch 345/400\n",
            "10/10 [==============================] - 0s 4ms/step - loss: 1.6393e-04 - mae: 0.0059\n",
            "Epoch 346/400\n",
            "10/10 [==============================] - 0s 3ms/step - loss: 1.6193e-04 - mae: 0.0059\n",
            "Epoch 347/400\n",
            "10/10 [==============================] - 0s 3ms/step - loss: 1.5988e-04 - mae: 0.0056\n",
            "Epoch 348/400\n",
            "10/10 [==============================] - 0s 3ms/step - loss: 1.5994e-04 - mae: 0.0057\n",
            "Epoch 349/400\n",
            "10/10 [==============================] - 0s 3ms/step - loss: 1.5947e-04 - mae: 0.0056\n",
            "Epoch 350/400\n",
            "10/10 [==============================] - 0s 3ms/step - loss: 1.5555e-04 - mae: 0.0053\n",
            "Epoch 351/400\n",
            "10/10 [==============================] - 0s 4ms/step - loss: 1.5466e-04 - mae: 0.0052\n",
            "Epoch 352/400\n",
            "10/10 [==============================] - 0s 3ms/step - loss: 1.5319e-04 - mae: 0.0051\n",
            "Epoch 353/400\n",
            "10/10 [==============================] - 0s 3ms/step - loss: 1.5193e-04 - mae: 0.0050\n",
            "Epoch 354/400\n",
            "10/10 [==============================] - 0s 4ms/step - loss: 1.5087e-04 - mae: 0.0048\n",
            "Epoch 355/400\n",
            "10/10 [==============================] - 0s 3ms/step - loss: 1.5079e-04 - mae: 0.0048\n",
            "Epoch 356/400\n",
            "10/10 [==============================] - 0s 3ms/step - loss: 1.4971e-04 - mae: 0.0047\n",
            "Epoch 357/400\n",
            "10/10 [==============================] - 0s 3ms/step - loss: 1.5083e-04 - mae: 0.0048\n",
            "Epoch 358/400\n",
            "10/10 [==============================] - 0s 3ms/step - loss: 1.4814e-04 - mae: 0.0045\n",
            "Epoch 359/400\n",
            "10/10 [==============================] - 0s 3ms/step - loss: 1.4657e-04 - mae: 0.0044\n",
            "Epoch 360/400\n",
            "10/10 [==============================] - 0s 3ms/step - loss: 1.4586e-04 - mae: 0.0043\n",
            "Epoch 361/400\n",
            "10/10 [==============================] - 0s 3ms/step - loss: 1.4540e-04 - mae: 0.0042\n",
            "Epoch 362/400\n",
            "10/10 [==============================] - 0s 3ms/step - loss: 1.4534e-04 - mae: 0.0042\n",
            "Epoch 363/400\n",
            "10/10 [==============================] - 0s 4ms/step - loss: 1.4377e-04 - mae: 0.0040\n",
            "Epoch 364/400\n",
            "10/10 [==============================] - 0s 3ms/step - loss: 1.4480e-04 - mae: 0.0042\n",
            "Epoch 365/400\n",
            "10/10 [==============================] - 0s 2ms/step - loss: 1.4430e-04 - mae: 0.0040\n",
            "Epoch 366/400\n",
            "10/10 [==============================] - 0s 3ms/step - loss: 1.4230e-04 - mae: 0.0038\n",
            "Epoch 367/400\n",
            "10/10 [==============================] - 0s 3ms/step - loss: 1.4126e-04 - mae: 0.0037\n",
            "Epoch 368/400\n",
            "10/10 [==============================] - 0s 3ms/step - loss: 1.4201e-04 - mae: 0.0038\n",
            "Epoch 369/400\n",
            "10/10 [==============================] - 0s 2ms/step - loss: 1.4200e-04 - mae: 0.0038\n",
            "Epoch 370/400\n",
            "10/10 [==============================] - 0s 3ms/step - loss: 1.4134e-04 - mae: 0.0036\n",
            "Epoch 371/400\n",
            "10/10 [==============================] - 0s 2ms/step - loss: 1.4146e-04 - mae: 0.0037\n",
            "Epoch 372/400\n",
            "10/10 [==============================] - 0s 4ms/step - loss: 1.4021e-04 - mae: 0.0035\n",
            "Epoch 373/400\n",
            "10/10 [==============================] - 0s 3ms/step - loss: 1.3936e-04 - mae: 0.0033\n",
            "Epoch 374/400\n",
            "10/10 [==============================] - 0s 3ms/step - loss: 1.3871e-04 - mae: 0.0033\n",
            "Epoch 375/400\n",
            "10/10 [==============================] - 0s 3ms/step - loss: 1.3867e-04 - mae: 0.0032\n",
            "Epoch 376/400\n",
            "10/10 [==============================] - 0s 3ms/step - loss: 1.3803e-04 - mae: 0.0031\n",
            "Epoch 377/400\n",
            "10/10 [==============================] - 0s 3ms/step - loss: 1.3803e-04 - mae: 0.0031\n",
            "Epoch 378/400\n",
            "10/10 [==============================] - 0s 3ms/step - loss: 1.3769e-04 - mae: 0.0030\n",
            "Epoch 379/400\n",
            "10/10 [==============================] - 0s 3ms/step - loss: 1.3775e-04 - mae: 0.0030\n",
            "Epoch 380/400\n",
            "10/10 [==============================] - 0s 3ms/step - loss: 1.3722e-04 - mae: 0.0029\n",
            "Epoch 381/400\n",
            "10/10 [==============================] - 0s 3ms/step - loss: 1.3727e-04 - mae: 0.0029\n",
            "Epoch 382/400\n",
            "10/10 [==============================] - 0s 3ms/step - loss: 1.3675e-04 - mae: 0.0029\n",
            "Epoch 383/400\n",
            "10/10 [==============================] - 0s 3ms/step - loss: 1.3657e-04 - mae: 0.0028\n",
            "Epoch 384/400\n",
            "10/10 [==============================] - 0s 3ms/step - loss: 1.3635e-04 - mae: 0.0028\n",
            "Epoch 385/400\n",
            "10/10 [==============================] - 0s 2ms/step - loss: 1.3631e-04 - mae: 0.0027\n",
            "Epoch 386/400\n",
            "10/10 [==============================] - 0s 3ms/step - loss: 1.3713e-04 - mae: 0.0029\n",
            "Epoch 387/400\n",
            "10/10 [==============================] - 0s 3ms/step - loss: 1.3653e-04 - mae: 0.0027\n",
            "Epoch 388/400\n",
            "10/10 [==============================] - 0s 3ms/step - loss: 1.3595e-04 - mae: 0.0026\n",
            "Epoch 389/400\n",
            "10/10 [==============================] - 0s 3ms/step - loss: 1.3559e-04 - mae: 0.0025\n",
            "Epoch 390/400\n",
            "10/10 [==============================] - 0s 3ms/step - loss: 1.3553e-04 - mae: 0.0025\n",
            "Epoch 391/400\n",
            "10/10 [==============================] - 0s 3ms/step - loss: 1.3551e-04 - mae: 0.0025\n",
            "Epoch 392/400\n",
            "10/10 [==============================] - 0s 4ms/step - loss: 1.3523e-04 - mae: 0.0025\n",
            "Epoch 393/400\n",
            "10/10 [==============================] - 0s 3ms/step - loss: 1.3507e-04 - mae: 0.0024\n",
            "Epoch 394/400\n",
            "10/10 [==============================] - 0s 3ms/step - loss: 1.3517e-04 - mae: 0.0024\n",
            "Epoch 395/400\n",
            "10/10 [==============================] - 0s 3ms/step - loss: 1.3524e-04 - mae: 0.0024\n",
            "Epoch 396/400\n",
            "10/10 [==============================] - 0s 4ms/step - loss: 1.3511e-04 - mae: 0.0024\n",
            "Epoch 397/400\n",
            "10/10 [==============================] - 0s 4ms/step - loss: 1.3473e-04 - mae: 0.0023\n",
            "Epoch 398/400\n",
            "10/10 [==============================] - 0s 4ms/step - loss: 1.3471e-04 - mae: 0.0023\n",
            "Epoch 399/400\n",
            "10/10 [==============================] - 0s 3ms/step - loss: 1.3515e-04 - mae: 0.0024\n",
            "Epoch 400/400\n",
            "10/10 [==============================] - 0s 3ms/step - loss: 1.3489e-04 - mae: 0.0023\n"
          ]
        },
        {
          "output_type": "execute_result",
          "data": {
            "text/plain": [
              "<keras.callbacks.History at 0x7f1160edfe90>"
            ]
          },
          "metadata": {},
          "execution_count": 9
        }
      ]
    },
    {
      "cell_type": "code",
      "source": [
        "a=12\n",
        "a=np.reshape(a,(1,1))\n",
        "print(\"nth fib:\"+str(np.exp(model.predict(a))))\n",
        "\n",
        "\n",
        "b=13\n",
        "b=np.reshape(b,(1,1))\n",
        "print(\"nth fib:\"+str(np.exp(model.predict(b))))\n",
        "\n",
        "\n",
        "c=14\n",
        "c=np.reshape(c,(1,1))\n",
        "\n",
        "print(\"nth fib:\"+str(np.exp(model.predict(c))))\n"
      ],
      "metadata": {
        "colab": {
          "base_uri": "https://localhost:8080/"
        },
        "id": "XNC7L3RN_uU7",
        "outputId": "780a538e-295b-4ebe-80f4-53f25ee8b171"
      },
      "execution_count": null,
      "outputs": [
        {
          "output_type": "stream",
          "name": "stdout",
          "text": [
            "nth fib:[[144.62022]]\n",
            "nth fib:[[233.98543]]\n",
            "nth fib:[[378.57123]]\n"
          ]
        }
      ]
    },
    {
      "cell_type": "code",
      "source": [
        "from keras.layers.recurrent_v2 import LSTM\n",
        "def create_mo():\n",
        "  m=Sequential()\n",
        "  m.add(LSTM(128,input_shape=(x_train.shape[1:]),activation=\"relu\",return_sequence=True))\n",
        "  m.add(Droput=(0.2))\n",
        "  m.add(LSTM(128,activation=\"relu\"))\n",
        "  m.add(Droput=(0.2))\n",
        "  m.add(LSTM(32,activation=\"relu\"))\n",
        "  m.add(Droput=(0.2))\n",
        "  m.add(LSTM(32,activation=\"softmax\")\n",
        "  opt=tf.keras.optimizers.Adam(lr=1e-3,decay=1e-6)\n",
        "  m.compile(loss=\"sparse_categorical_crosssentrophy\", optimizer=\"opt\", metrics=[\"accuracy\"])\n",
        "  return m\n"
      ],
      "metadata": {
        "colab": {
          "base_uri": "https://localhost:8080/",
          "height": 132
        },
        "id": "CnIGgr__-3ht",
        "outputId": "fabb2e6f-9dee-4840-9195-1e82ea335a8c"
      },
      "execution_count": null,
      "outputs": [
        {
          "output_type": "error",
          "ename": "SyntaxError",
          "evalue": "ignored",
          "traceback": [
            "\u001b[0;36m  File \u001b[0;32m\"<ipython-input-20-bbbbca9e0a15>\"\u001b[0;36m, line \u001b[0;32m11\u001b[0m\n\u001b[0;31m    opt=tf.keras.optimizers.Adam(lr=1e-3,decay=1e-5)\u001b[0m\n\u001b[0m      ^\u001b[0m\n\u001b[0;31mSyntaxError\u001b[0m\u001b[0;31m:\u001b[0m invalid syntax\n"
          ]
        }
      ]
    },
    {
      "cell_type": "code",
      "source": [
        "m=create_mo()\n",
        "m.summary()\n",
        "\n",
        "\n",
        "\n",
        "\n",
        "\n",
        "\n"
      ],
      "metadata": {
        "colab": {
          "base_uri": "https://localhost:8080/",
          "height": 522
        },
        "id": "tPDoI4gQX2tK",
        "outputId": "8dabed32-4e3e-4cb2-cd5a-984d08aced5f"
      },
      "execution_count": null,
      "outputs": [
        {
          "output_type": "stream",
          "name": "stderr",
          "text": [
            "/usr/local/lib/python3.7/dist-packages/keras/optimizer_v2/adam.py:105: UserWarning: The `lr` argument is deprecated, use `learning_rate` instead.\n",
            "  super(Adam, self).__init__(name, **kwargs)\n"
          ]
        },
        {
          "output_type": "error",
          "ename": "ValueError",
          "evalue": "ignored",
          "traceback": [
            "\u001b[0;31m---------------------------------------------------------------------------\u001b[0m",
            "\u001b[0;31mValueError\u001b[0m                                Traceback (most recent call last)",
            "\u001b[0;32m<ipython-input-19-10208bc08c87>\u001b[0m in \u001b[0;36m<module>\u001b[0;34m()\u001b[0m\n\u001b[0;32m----> 1\u001b[0;31m \u001b[0mm\u001b[0m\u001b[0;34m=\u001b[0m\u001b[0mcreate_mo\u001b[0m\u001b[0;34m(\u001b[0m\u001b[0;34m)\u001b[0m\u001b[0;34m\u001b[0m\u001b[0;34m\u001b[0m\u001b[0m\n\u001b[0m\u001b[1;32m      2\u001b[0m \u001b[0mm\u001b[0m\u001b[0;34m.\u001b[0m\u001b[0msummary\u001b[0m\u001b[0;34m(\u001b[0m\u001b[0;34m)\u001b[0m\u001b[0;34m\u001b[0m\u001b[0;34m\u001b[0m\u001b[0m\n\u001b[1;32m      3\u001b[0m \u001b[0;34m\u001b[0m\u001b[0m\n\u001b[1;32m      4\u001b[0m \u001b[0;34m\u001b[0m\u001b[0m\n\u001b[1;32m      5\u001b[0m \u001b[0;34m\u001b[0m\u001b[0m\n",
            "\u001b[0;32m<ipython-input-17-1c5623661ed4>\u001b[0m in \u001b[0;36mcreate_mo\u001b[0;34m()\u001b[0m\n\u001b[1;32m      4\u001b[0m   \u001b[0mm\u001b[0m\u001b[0;34m.\u001b[0m\u001b[0madd\u001b[0m\u001b[0;34m(\u001b[0m\u001b[0mDense\u001b[0m\u001b[0;34m(\u001b[0m\u001b[0munits\u001b[0m\u001b[0;34m=\u001b[0m\u001b[0;36m1\u001b[0m\u001b[0;34m)\u001b[0m\u001b[0;34m)\u001b[0m\u001b[0;34m\u001b[0m\u001b[0;34m\u001b[0m\u001b[0m\n\u001b[1;32m      5\u001b[0m   \u001b[0mopt\u001b[0m\u001b[0;34m=\u001b[0m\u001b[0mtf\u001b[0m\u001b[0;34m.\u001b[0m\u001b[0mkeras\u001b[0m\u001b[0;34m.\u001b[0m\u001b[0moptimizers\u001b[0m\u001b[0;34m.\u001b[0m\u001b[0mAdam\u001b[0m\u001b[0;34m(\u001b[0m\u001b[0mlr\u001b[0m\u001b[0;34m=\u001b[0m\u001b[0;36m1e-3\u001b[0m\u001b[0;34m,\u001b[0m\u001b[0mdecay\u001b[0m\u001b[0;34m=\u001b[0m\u001b[0;36m1e-5\u001b[0m\u001b[0;34m)\u001b[0m\u001b[0;34m\u001b[0m\u001b[0;34m\u001b[0m\u001b[0m\n\u001b[0;32m----> 6\u001b[0;31m   \u001b[0mm\u001b[0m\u001b[0;34m.\u001b[0m\u001b[0mcompile\u001b[0m\u001b[0;34m(\u001b[0m\u001b[0moptimizer\u001b[0m\u001b[0;34m=\u001b[0m\u001b[0;34m\"opt\"\u001b[0m\u001b[0;34m,\u001b[0m\u001b[0mloss\u001b[0m\u001b[0;34m=\u001b[0m\u001b[0;34m\"sparse_categorical_crosssentrophy\"\u001b[0m\u001b[0;34m,\u001b[0m \u001b[0mmetrics\u001b[0m\u001b[0;34m=\u001b[0m\u001b[0;34m[\u001b[0m\u001b[0;34m\"accuracy\"\u001b[0m\u001b[0;34m]\u001b[0m\u001b[0;34m)\u001b[0m\u001b[0;34m\u001b[0m\u001b[0;34m\u001b[0m\u001b[0m\n\u001b[0m\u001b[1;32m      7\u001b[0m   \u001b[0;32mreturn\u001b[0m \u001b[0mm\u001b[0m\u001b[0;34m\u001b[0m\u001b[0;34m\u001b[0m\u001b[0m\n",
            "\u001b[0;32m/usr/local/lib/python3.7/dist-packages/keras/utils/traceback_utils.py\u001b[0m in \u001b[0;36merror_handler\u001b[0;34m(*args, **kwargs)\u001b[0m\n\u001b[1;32m     65\u001b[0m     \u001b[0;32mexcept\u001b[0m \u001b[0mException\u001b[0m \u001b[0;32mas\u001b[0m \u001b[0me\u001b[0m\u001b[0;34m:\u001b[0m  \u001b[0;31m# pylint: disable=broad-except\u001b[0m\u001b[0;34m\u001b[0m\u001b[0;34m\u001b[0m\u001b[0m\n\u001b[1;32m     66\u001b[0m       \u001b[0mfiltered_tb\u001b[0m \u001b[0;34m=\u001b[0m \u001b[0m_process_traceback_frames\u001b[0m\u001b[0;34m(\u001b[0m\u001b[0me\u001b[0m\u001b[0;34m.\u001b[0m\u001b[0m__traceback__\u001b[0m\u001b[0;34m)\u001b[0m\u001b[0;34m\u001b[0m\u001b[0;34m\u001b[0m\u001b[0m\n\u001b[0;32m---> 67\u001b[0;31m       \u001b[0;32mraise\u001b[0m \u001b[0me\u001b[0m\u001b[0;34m.\u001b[0m\u001b[0mwith_traceback\u001b[0m\u001b[0;34m(\u001b[0m\u001b[0mfiltered_tb\u001b[0m\u001b[0;34m)\u001b[0m \u001b[0;32mfrom\u001b[0m \u001b[0;32mNone\u001b[0m\u001b[0;34m\u001b[0m\u001b[0;34m\u001b[0m\u001b[0m\n\u001b[0m\u001b[1;32m     68\u001b[0m     \u001b[0;32mfinally\u001b[0m\u001b[0;34m:\u001b[0m\u001b[0;34m\u001b[0m\u001b[0;34m\u001b[0m\u001b[0m\n\u001b[1;32m     69\u001b[0m       \u001b[0;32mdel\u001b[0m \u001b[0mfiltered_tb\u001b[0m\u001b[0;34m\u001b[0m\u001b[0;34m\u001b[0m\u001b[0m\n",
            "\u001b[0;32m/usr/local/lib/python3.7/dist-packages/keras/utils/generic_utils.py\u001b[0m in \u001b[0;36mclass_and_config_for_serialized_keras_object\u001b[0;34m(config, module_objects, custom_objects, printable_module_name)\u001b[0m\n\u001b[1;32m    561\u001b[0m   \u001b[0;32mif\u001b[0m \u001b[0mcls\u001b[0m \u001b[0;32mis\u001b[0m \u001b[0;32mNone\u001b[0m\u001b[0;34m:\u001b[0m\u001b[0;34m\u001b[0m\u001b[0;34m\u001b[0m\u001b[0m\n\u001b[1;32m    562\u001b[0m     raise ValueError(\n\u001b[0;32m--> 563\u001b[0;31m         \u001b[0;34mf'Unknown {printable_module_name}: {class_name}. Please ensure this '\u001b[0m\u001b[0;34m\u001b[0m\u001b[0;34m\u001b[0m\u001b[0m\n\u001b[0m\u001b[1;32m    564\u001b[0m         \u001b[0;34m'object is passed to the `custom_objects` argument. See '\u001b[0m\u001b[0;34m\u001b[0m\u001b[0;34m\u001b[0m\u001b[0m\n\u001b[1;32m    565\u001b[0m         \u001b[0;34m'https://www.tensorflow.org/guide/keras/save_and_serialize'\u001b[0m\u001b[0;34m\u001b[0m\u001b[0;34m\u001b[0m\u001b[0m\n",
            "\u001b[0;31mValueError\u001b[0m: Unknown optimizer: opt. Please ensure this object is passed to the `custom_objects` argument. See https://www.tensorflow.org/guide/keras/save_and_serialize#registering_the_custom_object for details."
          ]
        }
      ]
    },
    {
      "cell_type": "code",
      "source": [
        "\n",
        "\n"
      ],
      "metadata": {
        "id": "MaJWqMHXnBBQ",
        "colab": {
          "base_uri": "https://localhost:8080/"
        },
        "outputId": "00821234-d04b-4775-b624-d3de5415db7a"
      },
      "execution_count": null,
      "outputs": [
        {
          "output_type": "execute_result",
          "data": {
            "text/plain": [
              "0.868421052631579"
            ]
          },
          "metadata": {},
          "execution_count": 1
        }
      ]
    },
    {
      "cell_type": "code",
      "source": [
        "\n",
        "\n"
      ],
      "metadata": {
        "id": "vhXgF__OQCFM"
      },
      "execution_count": null,
      "outputs": []
    },
    {
      "cell_type": "code",
      "source": [
        "m=create_mo()\n",
        "m.summary()\n"
      ],
      "metadata": {
        "colab": {
          "base_uri": "https://localhost:8080/",
          "height": 416
        },
        "id": "L315pNxPAxKV",
        "outputId": "cc0e562b-4abd-4670-e09b-5bc4520ee20b"
      },
      "execution_count": null,
      "outputs": [
        {
          "output_type": "error",
          "ename": "ValueError",
          "evalue": "ignored",
          "traceback": [
            "\u001b[0;31m---------------------------------------------------------------------------\u001b[0m",
            "\u001b[0;31mValueError\u001b[0m                                Traceback (most recent call last)",
            "\u001b[0;32m<ipython-input-32-2685adf81223>\u001b[0m in \u001b[0;36m<module>\u001b[0;34m()\u001b[0m\n\u001b[0;32m----> 1\u001b[0;31m \u001b[0mm\u001b[0m\u001b[0;34m=\u001b[0m\u001b[0mcreate_mo\u001b[0m\u001b[0;34m(\u001b[0m\u001b[0;34m)\u001b[0m\u001b[0;34m\u001b[0m\u001b[0;34m\u001b[0m\u001b[0m\n\u001b[0m\u001b[1;32m      2\u001b[0m \u001b[0mm\u001b[0m\u001b[0;34m.\u001b[0m\u001b[0msummary\u001b[0m\u001b[0;34m(\u001b[0m\u001b[0;34m)\u001b[0m\u001b[0;34m\u001b[0m\u001b[0;34m\u001b[0m\u001b[0m\n",
            "\u001b[0;32m<ipython-input-31-4c32a405c2a3>\u001b[0m in \u001b[0;36mcreate_mo\u001b[0;34m()\u001b[0m\n\u001b[1;32m      3\u001b[0m   \u001b[0mm\u001b[0m\u001b[0;34m.\u001b[0m\u001b[0madd\u001b[0m\u001b[0;34m(\u001b[0m\u001b[0mDense\u001b[0m\u001b[0;34m(\u001b[0m\u001b[0munits\u001b[0m\u001b[0;34m=\u001b[0m\u001b[0;36m1024\u001b[0m\u001b[0;34m,\u001b[0m\u001b[0minput_dim\u001b[0m\u001b[0;34m=\u001b[0m\u001b[0;36m1\u001b[0m\u001b[0;34m,\u001b[0m\u001b[0mactivation\u001b[0m\u001b[0;34m=\u001b[0m\u001b[0;34m\"relu\"\u001b[0m\u001b[0;34m)\u001b[0m\u001b[0;34m)\u001b[0m\u001b[0;34m\u001b[0m\u001b[0;34m\u001b[0m\u001b[0m\n\u001b[1;32m      4\u001b[0m   \u001b[0mm\u001b[0m\u001b[0;34m.\u001b[0m\u001b[0madd\u001b[0m\u001b[0;34m(\u001b[0m\u001b[0mDense\u001b[0m\u001b[0;34m(\u001b[0m\u001b[0munits\u001b[0m\u001b[0;34m=\u001b[0m\u001b[0;36m1\u001b[0m\u001b[0;34m)\u001b[0m\u001b[0;34m)\u001b[0m\u001b[0;34m\u001b[0m\u001b[0;34m\u001b[0m\u001b[0m\n\u001b[0;32m----> 5\u001b[0;31m   \u001b[0mm\u001b[0m\u001b[0;34m.\u001b[0m\u001b[0mcompile\u001b[0m\u001b[0;34m(\u001b[0m\u001b[0moptimizer\u001b[0m\u001b[0;34m=\u001b[0m\u001b[0;34m\"opt\"\u001b[0m\u001b[0;34m,\u001b[0m\u001b[0mloss\u001b[0m\u001b[0;34m=\u001b[0m\u001b[0;34m\"sparse_categorical_crosssentrophy\"\u001b[0m\u001b[0;34m,\u001b[0m \u001b[0mmetrics\u001b[0m\u001b[0;34m=\u001b[0m\u001b[0;34m[\u001b[0m\u001b[0;34m\"accuracy\"\u001b[0m\u001b[0;34m]\u001b[0m\u001b[0;34m)\u001b[0m\u001b[0;34m\u001b[0m\u001b[0;34m\u001b[0m\u001b[0m\n\u001b[0m\u001b[1;32m      6\u001b[0m   \u001b[0;32mreturn\u001b[0m \u001b[0mm\u001b[0m\u001b[0;34m\u001b[0m\u001b[0;34m\u001b[0m\u001b[0m\n",
            "\u001b[0;32m/usr/local/lib/python3.7/dist-packages/keras/utils/traceback_utils.py\u001b[0m in \u001b[0;36merror_handler\u001b[0;34m(*args, **kwargs)\u001b[0m\n\u001b[1;32m     65\u001b[0m     \u001b[0;32mexcept\u001b[0m \u001b[0mException\u001b[0m \u001b[0;32mas\u001b[0m \u001b[0me\u001b[0m\u001b[0;34m:\u001b[0m  \u001b[0;31m# pylint: disable=broad-except\u001b[0m\u001b[0;34m\u001b[0m\u001b[0;34m\u001b[0m\u001b[0m\n\u001b[1;32m     66\u001b[0m       \u001b[0mfiltered_tb\u001b[0m \u001b[0;34m=\u001b[0m \u001b[0m_process_traceback_frames\u001b[0m\u001b[0;34m(\u001b[0m\u001b[0me\u001b[0m\u001b[0;34m.\u001b[0m\u001b[0m__traceback__\u001b[0m\u001b[0;34m)\u001b[0m\u001b[0;34m\u001b[0m\u001b[0;34m\u001b[0m\u001b[0m\n\u001b[0;32m---> 67\u001b[0;31m       \u001b[0;32mraise\u001b[0m \u001b[0me\u001b[0m\u001b[0;34m.\u001b[0m\u001b[0mwith_traceback\u001b[0m\u001b[0;34m(\u001b[0m\u001b[0mfiltered_tb\u001b[0m\u001b[0;34m)\u001b[0m \u001b[0;32mfrom\u001b[0m \u001b[0;32mNone\u001b[0m\u001b[0;34m\u001b[0m\u001b[0;34m\u001b[0m\u001b[0m\n\u001b[0m\u001b[1;32m     68\u001b[0m     \u001b[0;32mfinally\u001b[0m\u001b[0;34m:\u001b[0m\u001b[0;34m\u001b[0m\u001b[0;34m\u001b[0m\u001b[0m\n\u001b[1;32m     69\u001b[0m       \u001b[0;32mdel\u001b[0m \u001b[0mfiltered_tb\u001b[0m\u001b[0;34m\u001b[0m\u001b[0;34m\u001b[0m\u001b[0m\n",
            "\u001b[0;32m/usr/local/lib/python3.7/dist-packages/keras/utils/generic_utils.py\u001b[0m in \u001b[0;36mclass_and_config_for_serialized_keras_object\u001b[0;34m(config, module_objects, custom_objects, printable_module_name)\u001b[0m\n\u001b[1;32m    561\u001b[0m   \u001b[0;32mif\u001b[0m \u001b[0mcls\u001b[0m \u001b[0;32mis\u001b[0m \u001b[0;32mNone\u001b[0m\u001b[0;34m:\u001b[0m\u001b[0;34m\u001b[0m\u001b[0;34m\u001b[0m\u001b[0m\n\u001b[1;32m    562\u001b[0m     raise ValueError(\n\u001b[0;32m--> 563\u001b[0;31m         \u001b[0;34mf'Unknown {printable_module_name}: {class_name}. Please ensure this '\u001b[0m\u001b[0;34m\u001b[0m\u001b[0;34m\u001b[0m\u001b[0m\n\u001b[0m\u001b[1;32m    564\u001b[0m         \u001b[0;34m'object is passed to the `custom_objects` argument. See '\u001b[0m\u001b[0;34m\u001b[0m\u001b[0;34m\u001b[0m\u001b[0m\n\u001b[1;32m    565\u001b[0m         \u001b[0;34m'https://www.tensorflow.org/guide/keras/save_and_serialize'\u001b[0m\u001b[0;34m\u001b[0m\u001b[0;34m\u001b[0m\u001b[0m\n",
            "\u001b[0;31mValueError\u001b[0m: Unknown optimizer: opt. Please ensure this object is passed to the `custom_objects` argument. See https://www.tensorflow.org/guide/keras/save_and_serialize#registering_the_custom_object for details."
          ]
        }
      ]
    },
    {
      "cell_type": "code",
      "source": [
        "m.fit(model.fit(x_train,y_train,batch_size=32,epochs=400))"
      ],
      "metadata": {
        "colab": {
          "base_uri": "https://localhost:8080/",
          "height": 166
        },
        "id": "ezJAwpil2t5L",
        "outputId": "58d24492-a677-4756-bd83-57c64b338dd3"
      },
      "execution_count": null,
      "outputs": [
        {
          "output_type": "error",
          "ename": "NameError",
          "evalue": "ignored",
          "traceback": [
            "\u001b[0;31m---------------------------------------------------------------------------\u001b[0m",
            "\u001b[0;31mNameError\u001b[0m                                 Traceback (most recent call last)",
            "\u001b[0;32m<ipython-input-29-6bd0df49d184>\u001b[0m in \u001b[0;36m<module>\u001b[0;34m()\u001b[0m\n\u001b[0;32m----> 1\u001b[0;31m \u001b[0mm\u001b[0m\u001b[0;34m.\u001b[0m\u001b[0mfit\u001b[0m\u001b[0;34m(\u001b[0m\u001b[0mmodel\u001b[0m\u001b[0;34m.\u001b[0m\u001b[0mfit\u001b[0m\u001b[0;34m(\u001b[0m\u001b[0mx_train\u001b[0m\u001b[0;34m,\u001b[0m\u001b[0my_train\u001b[0m\u001b[0;34m,\u001b[0m\u001b[0mbatch_size\u001b[0m\u001b[0;34m=\u001b[0m\u001b[0;36m32\u001b[0m\u001b[0;34m,\u001b[0m\u001b[0mepochs\u001b[0m\u001b[0;34m=\u001b[0m\u001b[0;36m400\u001b[0m\u001b[0;34m)\u001b[0m\u001b[0;34m)\u001b[0m\u001b[0;34m\u001b[0m\u001b[0;34m\u001b[0m\u001b[0m\n\u001b[0m",
            "\u001b[0;31mNameError\u001b[0m: name 'm' is not defined"
          ]
        }
      ]
    },
    {
      "cell_type": "code",
      "source": [
        ""
      ],
      "metadata": {
        "colab": {
          "base_uri": "https://localhost:8080/"
        },
        "id": "TffvIPz63AC4",
        "outputId": "1a4f772c-c537-4971-b37d-c25d61db2e5d"
      },
      "execution_count": null,
      "outputs": [
        {
          "output_type": "execute_result",
          "data": {
            "text/plain": [
              "LucasRNN(\n",
              "  (rnn): RNN(1, 8, batch_first=True)\n",
              "  (decoder): Linear(in_features=8, out_features=1, bias=True)\n",
              ")"
            ]
          },
          "metadata": {},
          "execution_count": 13
        }
      ]
    },
    {
      "cell_type": "code",
      "source": [
        ""
      ],
      "metadata": {
        "id": "lLtioJst357s"
      },
      "execution_count": null,
      "outputs": []
    },
    {
      "cell_type": "code",
      "source": [
        ""
      ],
      "metadata": {
        "id": "xTjZdCMxWVbO"
      },
      "execution_count": null,
      "outputs": []
    },
    {
      "cell_type": "code",
      "source": [
        "\n"
      ],
      "metadata": {
        "id": "ME-CtCKkm1rc",
        "colab": {
          "base_uri": "https://localhost:8080/",
          "height": 921
        },
        "outputId": "155bf596-c47a-4be8-e567-0f5db6c55b59"
      },
      "execution_count": null,
      "outputs": [
        {
          "output_type": "stream",
          "name": "stdout",
          "text": [
            "Epoch 1/400\n",
            "WARNING:tensorflow:Model was constructed with shape (None, 1) for input KerasTensor(type_spec=TensorSpec(shape=(None, 1), dtype=tf.float32, name='dense_6_input'), name='dense_6_input', description=\"created by layer 'dense_6_input'\"), but it was called on an input with incompatible shape (None, 2).\n"
          ]
        },
        {
          "output_type": "error",
          "ename": "ValueError",
          "evalue": "ignored",
          "traceback": [
            "\u001b[0;31m---------------------------------------------------------------------------\u001b[0m",
            "\u001b[0;31mValueError\u001b[0m                                Traceback (most recent call last)",
            "\u001b[0;32m<ipython-input-14-84f260f0bb6d>\u001b[0m in \u001b[0;36m<module>\u001b[0;34m()\u001b[0m\n\u001b[1;32m     17\u001b[0m \u001b[0mmodel\u001b[0m\u001b[0;34m.\u001b[0m\u001b[0mcompile\u001b[0m\u001b[0;34m(\u001b[0m\u001b[0mloss\u001b[0m\u001b[0;34m=\u001b[0m\u001b[0;34m'\"mean_squared_error\"'\u001b[0m\u001b[0;34m,\u001b[0m \u001b[0moptimizer\u001b[0m\u001b[0;34m=\u001b[0m\u001b[0;34m'adam'\u001b[0m\u001b[0;34m,\u001b[0m \u001b[0mmetrics\u001b[0m\u001b[0;34m=\u001b[0m\u001b[0;34m[\u001b[0m\u001b[0;34m'accuracy'\u001b[0m\u001b[0;34m]\u001b[0m\u001b[0;34m)\u001b[0m\u001b[0;34m\u001b[0m\u001b[0;34m\u001b[0m\u001b[0m\n\u001b[1;32m     18\u001b[0m \u001b[0;31m# Fit the model\u001b[0m\u001b[0;34m\u001b[0m\u001b[0;34m\u001b[0m\u001b[0;34m\u001b[0m\u001b[0m\n\u001b[0;32m---> 19\u001b[0;31m \u001b[0mmodel\u001b[0m\u001b[0;34m.\u001b[0m\u001b[0mfit\u001b[0m\u001b[0;34m(\u001b[0m\u001b[0mX\u001b[0m\u001b[0;34m,\u001b[0m \u001b[0mY\u001b[0m\u001b[0;34m,\u001b[0m \u001b[0mvalidation_split\u001b[0m\u001b[0;34m=\u001b[0m\u001b[0;36m0.33\u001b[0m\u001b[0;34m,\u001b[0m \u001b[0mepochs\u001b[0m\u001b[0;34m=\u001b[0m\u001b[0;36m400\u001b[0m\u001b[0;34m,\u001b[0m \u001b[0mbatch_size\u001b[0m\u001b[0;34m=\u001b[0m\u001b[0;36m32\u001b[0m\u001b[0;34m)\u001b[0m\u001b[0;34m\u001b[0m\u001b[0;34m\u001b[0m\u001b[0m\n\u001b[0m",
            "\u001b[0;32m/usr/local/lib/python3.7/dist-packages/keras/utils/traceback_utils.py\u001b[0m in \u001b[0;36merror_handler\u001b[0;34m(*args, **kwargs)\u001b[0m\n\u001b[1;32m     65\u001b[0m     \u001b[0;32mexcept\u001b[0m \u001b[0mException\u001b[0m \u001b[0;32mas\u001b[0m \u001b[0me\u001b[0m\u001b[0;34m:\u001b[0m  \u001b[0;31m# pylint: disable=broad-except\u001b[0m\u001b[0;34m\u001b[0m\u001b[0;34m\u001b[0m\u001b[0m\n\u001b[1;32m     66\u001b[0m       \u001b[0mfiltered_tb\u001b[0m \u001b[0;34m=\u001b[0m \u001b[0m_process_traceback_frames\u001b[0m\u001b[0;34m(\u001b[0m\u001b[0me\u001b[0m\u001b[0;34m.\u001b[0m\u001b[0m__traceback__\u001b[0m\u001b[0;34m)\u001b[0m\u001b[0;34m\u001b[0m\u001b[0;34m\u001b[0m\u001b[0m\n\u001b[0;32m---> 67\u001b[0;31m       \u001b[0;32mraise\u001b[0m \u001b[0me\u001b[0m\u001b[0;34m.\u001b[0m\u001b[0mwith_traceback\u001b[0m\u001b[0;34m(\u001b[0m\u001b[0mfiltered_tb\u001b[0m\u001b[0;34m)\u001b[0m \u001b[0;32mfrom\u001b[0m \u001b[0;32mNone\u001b[0m\u001b[0;34m\u001b[0m\u001b[0;34m\u001b[0m\u001b[0m\n\u001b[0m\u001b[1;32m     68\u001b[0m     \u001b[0;32mfinally\u001b[0m\u001b[0;34m:\u001b[0m\u001b[0;34m\u001b[0m\u001b[0;34m\u001b[0m\u001b[0m\n\u001b[1;32m     69\u001b[0m       \u001b[0;32mdel\u001b[0m \u001b[0mfiltered_tb\u001b[0m\u001b[0;34m\u001b[0m\u001b[0;34m\u001b[0m\u001b[0m\n",
            "\u001b[0;32m/usr/local/lib/python3.7/dist-packages/tensorflow/python/framework/func_graph.py\u001b[0m in \u001b[0;36mautograph_handler\u001b[0;34m(*args, **kwargs)\u001b[0m\n\u001b[1;32m   1145\u001b[0m           \u001b[0;32mexcept\u001b[0m \u001b[0mException\u001b[0m \u001b[0;32mas\u001b[0m \u001b[0me\u001b[0m\u001b[0;34m:\u001b[0m  \u001b[0;31m# pylint:disable=broad-except\u001b[0m\u001b[0;34m\u001b[0m\u001b[0;34m\u001b[0m\u001b[0m\n\u001b[1;32m   1146\u001b[0m             \u001b[0;32mif\u001b[0m \u001b[0mhasattr\u001b[0m\u001b[0;34m(\u001b[0m\u001b[0me\u001b[0m\u001b[0;34m,\u001b[0m \u001b[0;34m\"ag_error_metadata\"\u001b[0m\u001b[0;34m)\u001b[0m\u001b[0;34m:\u001b[0m\u001b[0;34m\u001b[0m\u001b[0;34m\u001b[0m\u001b[0m\n\u001b[0;32m-> 1147\u001b[0;31m               \u001b[0;32mraise\u001b[0m \u001b[0me\u001b[0m\u001b[0;34m.\u001b[0m\u001b[0mag_error_metadata\u001b[0m\u001b[0;34m.\u001b[0m\u001b[0mto_exception\u001b[0m\u001b[0;34m(\u001b[0m\u001b[0me\u001b[0m\u001b[0;34m)\u001b[0m\u001b[0;34m\u001b[0m\u001b[0;34m\u001b[0m\u001b[0m\n\u001b[0m\u001b[1;32m   1148\u001b[0m             \u001b[0;32melse\u001b[0m\u001b[0;34m:\u001b[0m\u001b[0;34m\u001b[0m\u001b[0;34m\u001b[0m\u001b[0m\n\u001b[1;32m   1149\u001b[0m               \u001b[0;32mraise\u001b[0m\u001b[0;34m\u001b[0m\u001b[0;34m\u001b[0m\u001b[0m\n",
            "\u001b[0;31mValueError\u001b[0m: in user code:\n\n    File \"/usr/local/lib/python3.7/dist-packages/keras/engine/training.py\", line 1021, in train_function  *\n        return step_function(self, iterator)\n    File \"/usr/local/lib/python3.7/dist-packages/keras/engine/training.py\", line 1010, in step_function  **\n        outputs = model.distribute_strategy.run(run_step, args=(data,))\n    File \"/usr/local/lib/python3.7/dist-packages/keras/engine/training.py\", line 1000, in run_step  **\n        outputs = model.train_step(data)\n    File \"/usr/local/lib/python3.7/dist-packages/keras/engine/training.py\", line 859, in train_step\n        y_pred = self(x, training=True)\n    File \"/usr/local/lib/python3.7/dist-packages/keras/utils/traceback_utils.py\", line 67, in error_handler\n        raise e.with_traceback(filtered_tb) from None\n    File \"/usr/local/lib/python3.7/dist-packages/keras/engine/input_spec.py\", line 249, in assert_input_compatibility\n        f'Input {input_index} of layer \"{layer_name}\" is '\n\n    ValueError: Exception encountered when calling layer \"sequential_3\" (type Sequential).\n    \n    Input 0 of layer \"dense_6\" is incompatible with the layer: expected axis -1 of input shape to have value 1, but received input with shape (None, 2)\n    \n    Call arguments received:\n      • inputs=tf.Tensor(shape=(None, 2), dtype=float32)\n      • training=True\n      • mask=None\n"
          ]
        }
      ]
    }
  ]
}